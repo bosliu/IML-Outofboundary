{
 "cells": [
  {
   "cell_type": "markdown",
   "metadata": {
    "collapsed": true,
    "pycharm": {
     "name": "#%% md\n"
    }
   },
   "source": [
    "This file works as the data pre-processing experiment of the second task."
   ]
  },
  {
   "cell_type": "code",
   "execution_count": 1,
   "outputs": [],
   "source": [
    "import numpy as np\n",
    "import pandas as pd\n",
    "\n",
    "from sklearn.linear_model import LinearRegression\n",
    "import scipy"
   ],
   "metadata": {
    "collapsed": false,
    "pycharm": {
     "name": "#%%\n"
    }
   }
  },
  {
   "cell_type": "code",
   "execution_count": 2,
   "outputs": [
    {
     "data": {
      "text/plain": "    pid  Time   Age  EtCO2  PTT   BUN  Lactate  Temp  Hgb  HCO3  ...  \\\n0     1     3  34.0    NaN  NaN  12.0      NaN  36.0  8.7  24.0  ...   \n1     1     4  34.0    NaN  NaN   NaN      NaN  36.0  NaN   NaN  ...   \n2     1     5  34.0    NaN  NaN   NaN      NaN  36.0  NaN   NaN  ...   \n3     1     6  34.0    NaN  NaN   NaN      NaN  37.0  NaN   NaN  ...   \n4     1     7  34.0    NaN  NaN   NaN      NaN   NaN  NaN   NaN  ...   \n5     1     8  34.0    NaN  NaN   NaN      NaN  37.0  NaN   NaN  ...   \n6     1     9  34.0    NaN  NaN   NaN      NaN  37.0  NaN   NaN  ...   \n7     1    10  34.0    NaN  NaN   NaN      NaN  37.0  NaN   NaN  ...   \n8     1    11  34.0    NaN  NaN  12.0      NaN   NaN  8.5  26.0  ...   \n9     1    12  34.0    NaN  NaN  12.0      NaN  38.0  8.5  26.0  ...   \n10    1    13  34.0    NaN  NaN   NaN      NaN   NaN  NaN   NaN  ...   \n11    1    14  34.0    NaN  NaN   NaN      NaN   NaN  NaN   NaN  ...   \n12   10     1  71.0    NaN  NaN   NaN      NaN   NaN  NaN   NaN  ...   \n\n    Alkalinephos   SpO2  Bilirubin_direct  Chloride   Hct  Heartrate  \\\n0            NaN  100.0               NaN     114.0  24.6       94.0   \n1            NaN  100.0               NaN       NaN   NaN       99.0   \n2            NaN  100.0               NaN       NaN   NaN       92.0   \n3            NaN  100.0               NaN       NaN   NaN       88.0   \n4            NaN  100.0               NaN       NaN  22.4       81.0   \n5            NaN  100.0               NaN       NaN  22.4       82.0   \n6            NaN  100.0               NaN       NaN   NaN       67.0   \n7            NaN  100.0               NaN       NaN   NaN       62.0   \n8            NaN  100.0               NaN     111.0  23.8       58.0   \n9            NaN  100.0               NaN     111.0  23.8       66.0   \n10           NaN  100.0               NaN       NaN   NaN       67.0   \n11           NaN  100.0               NaN       NaN  22.2       69.0   \n12           NaN    NaN               NaN       NaN   NaN        NaN   \n\n    Bilirubin_total  TroponinI   ABPs    pH  \n0               NaN        NaN  142.0  7.33  \n1               NaN        NaN  125.0  7.33  \n2               NaN        NaN  110.0  7.37  \n3               NaN        NaN  104.0  7.37  \n4               NaN        NaN  100.0  7.41  \n5               NaN        NaN  106.0   NaN  \n6               NaN        NaN  112.0   NaN  \n7               NaN        NaN  121.0   NaN  \n8               NaN        NaN  118.0   NaN  \n9               NaN        NaN  110.0  7.39  \n10              NaN        NaN  124.0  7.39  \n11              NaN        NaN  102.0   NaN  \n12              NaN        NaN    NaN   NaN  \n\n[13 rows x 37 columns]",
      "text/html": "<div>\n<style scoped>\n    .dataframe tbody tr th:only-of-type {\n        vertical-align: middle;\n    }\n\n    .dataframe tbody tr th {\n        vertical-align: top;\n    }\n\n    .dataframe thead th {\n        text-align: right;\n    }\n</style>\n<table border=\"1\" class=\"dataframe\">\n  <thead>\n    <tr style=\"text-align: right;\">\n      <th></th>\n      <th>pid</th>\n      <th>Time</th>\n      <th>Age</th>\n      <th>EtCO2</th>\n      <th>PTT</th>\n      <th>BUN</th>\n      <th>Lactate</th>\n      <th>Temp</th>\n      <th>Hgb</th>\n      <th>HCO3</th>\n      <th>...</th>\n      <th>Alkalinephos</th>\n      <th>SpO2</th>\n      <th>Bilirubin_direct</th>\n      <th>Chloride</th>\n      <th>Hct</th>\n      <th>Heartrate</th>\n      <th>Bilirubin_total</th>\n      <th>TroponinI</th>\n      <th>ABPs</th>\n      <th>pH</th>\n    </tr>\n  </thead>\n  <tbody>\n    <tr>\n      <th>0</th>\n      <td>1</td>\n      <td>3</td>\n      <td>34.0</td>\n      <td>NaN</td>\n      <td>NaN</td>\n      <td>12.0</td>\n      <td>NaN</td>\n      <td>36.0</td>\n      <td>8.7</td>\n      <td>24.0</td>\n      <td>...</td>\n      <td>NaN</td>\n      <td>100.0</td>\n      <td>NaN</td>\n      <td>114.0</td>\n      <td>24.6</td>\n      <td>94.0</td>\n      <td>NaN</td>\n      <td>NaN</td>\n      <td>142.0</td>\n      <td>7.33</td>\n    </tr>\n    <tr>\n      <th>1</th>\n      <td>1</td>\n      <td>4</td>\n      <td>34.0</td>\n      <td>NaN</td>\n      <td>NaN</td>\n      <td>NaN</td>\n      <td>NaN</td>\n      <td>36.0</td>\n      <td>NaN</td>\n      <td>NaN</td>\n      <td>...</td>\n      <td>NaN</td>\n      <td>100.0</td>\n      <td>NaN</td>\n      <td>NaN</td>\n      <td>NaN</td>\n      <td>99.0</td>\n      <td>NaN</td>\n      <td>NaN</td>\n      <td>125.0</td>\n      <td>7.33</td>\n    </tr>\n    <tr>\n      <th>2</th>\n      <td>1</td>\n      <td>5</td>\n      <td>34.0</td>\n      <td>NaN</td>\n      <td>NaN</td>\n      <td>NaN</td>\n      <td>NaN</td>\n      <td>36.0</td>\n      <td>NaN</td>\n      <td>NaN</td>\n      <td>...</td>\n      <td>NaN</td>\n      <td>100.0</td>\n      <td>NaN</td>\n      <td>NaN</td>\n      <td>NaN</td>\n      <td>92.0</td>\n      <td>NaN</td>\n      <td>NaN</td>\n      <td>110.0</td>\n      <td>7.37</td>\n    </tr>\n    <tr>\n      <th>3</th>\n      <td>1</td>\n      <td>6</td>\n      <td>34.0</td>\n      <td>NaN</td>\n      <td>NaN</td>\n      <td>NaN</td>\n      <td>NaN</td>\n      <td>37.0</td>\n      <td>NaN</td>\n      <td>NaN</td>\n      <td>...</td>\n      <td>NaN</td>\n      <td>100.0</td>\n      <td>NaN</td>\n      <td>NaN</td>\n      <td>NaN</td>\n      <td>88.0</td>\n      <td>NaN</td>\n      <td>NaN</td>\n      <td>104.0</td>\n      <td>7.37</td>\n    </tr>\n    <tr>\n      <th>4</th>\n      <td>1</td>\n      <td>7</td>\n      <td>34.0</td>\n      <td>NaN</td>\n      <td>NaN</td>\n      <td>NaN</td>\n      <td>NaN</td>\n      <td>NaN</td>\n      <td>NaN</td>\n      <td>NaN</td>\n      <td>...</td>\n      <td>NaN</td>\n      <td>100.0</td>\n      <td>NaN</td>\n      <td>NaN</td>\n      <td>22.4</td>\n      <td>81.0</td>\n      <td>NaN</td>\n      <td>NaN</td>\n      <td>100.0</td>\n      <td>7.41</td>\n    </tr>\n    <tr>\n      <th>5</th>\n      <td>1</td>\n      <td>8</td>\n      <td>34.0</td>\n      <td>NaN</td>\n      <td>NaN</td>\n      <td>NaN</td>\n      <td>NaN</td>\n      <td>37.0</td>\n      <td>NaN</td>\n      <td>NaN</td>\n      <td>...</td>\n      <td>NaN</td>\n      <td>100.0</td>\n      <td>NaN</td>\n      <td>NaN</td>\n      <td>22.4</td>\n      <td>82.0</td>\n      <td>NaN</td>\n      <td>NaN</td>\n      <td>106.0</td>\n      <td>NaN</td>\n    </tr>\n    <tr>\n      <th>6</th>\n      <td>1</td>\n      <td>9</td>\n      <td>34.0</td>\n      <td>NaN</td>\n      <td>NaN</td>\n      <td>NaN</td>\n      <td>NaN</td>\n      <td>37.0</td>\n      <td>NaN</td>\n      <td>NaN</td>\n      <td>...</td>\n      <td>NaN</td>\n      <td>100.0</td>\n      <td>NaN</td>\n      <td>NaN</td>\n      <td>NaN</td>\n      <td>67.0</td>\n      <td>NaN</td>\n      <td>NaN</td>\n      <td>112.0</td>\n      <td>NaN</td>\n    </tr>\n    <tr>\n      <th>7</th>\n      <td>1</td>\n      <td>10</td>\n      <td>34.0</td>\n      <td>NaN</td>\n      <td>NaN</td>\n      <td>NaN</td>\n      <td>NaN</td>\n      <td>37.0</td>\n      <td>NaN</td>\n      <td>NaN</td>\n      <td>...</td>\n      <td>NaN</td>\n      <td>100.0</td>\n      <td>NaN</td>\n      <td>NaN</td>\n      <td>NaN</td>\n      <td>62.0</td>\n      <td>NaN</td>\n      <td>NaN</td>\n      <td>121.0</td>\n      <td>NaN</td>\n    </tr>\n    <tr>\n      <th>8</th>\n      <td>1</td>\n      <td>11</td>\n      <td>34.0</td>\n      <td>NaN</td>\n      <td>NaN</td>\n      <td>12.0</td>\n      <td>NaN</td>\n      <td>NaN</td>\n      <td>8.5</td>\n      <td>26.0</td>\n      <td>...</td>\n      <td>NaN</td>\n      <td>100.0</td>\n      <td>NaN</td>\n      <td>111.0</td>\n      <td>23.8</td>\n      <td>58.0</td>\n      <td>NaN</td>\n      <td>NaN</td>\n      <td>118.0</td>\n      <td>NaN</td>\n    </tr>\n    <tr>\n      <th>9</th>\n      <td>1</td>\n      <td>12</td>\n      <td>34.0</td>\n      <td>NaN</td>\n      <td>NaN</td>\n      <td>12.0</td>\n      <td>NaN</td>\n      <td>38.0</td>\n      <td>8.5</td>\n      <td>26.0</td>\n      <td>...</td>\n      <td>NaN</td>\n      <td>100.0</td>\n      <td>NaN</td>\n      <td>111.0</td>\n      <td>23.8</td>\n      <td>66.0</td>\n      <td>NaN</td>\n      <td>NaN</td>\n      <td>110.0</td>\n      <td>7.39</td>\n    </tr>\n    <tr>\n      <th>10</th>\n      <td>1</td>\n      <td>13</td>\n      <td>34.0</td>\n      <td>NaN</td>\n      <td>NaN</td>\n      <td>NaN</td>\n      <td>NaN</td>\n      <td>NaN</td>\n      <td>NaN</td>\n      <td>NaN</td>\n      <td>...</td>\n      <td>NaN</td>\n      <td>100.0</td>\n      <td>NaN</td>\n      <td>NaN</td>\n      <td>NaN</td>\n      <td>67.0</td>\n      <td>NaN</td>\n      <td>NaN</td>\n      <td>124.0</td>\n      <td>7.39</td>\n    </tr>\n    <tr>\n      <th>11</th>\n      <td>1</td>\n      <td>14</td>\n      <td>34.0</td>\n      <td>NaN</td>\n      <td>NaN</td>\n      <td>NaN</td>\n      <td>NaN</td>\n      <td>NaN</td>\n      <td>NaN</td>\n      <td>NaN</td>\n      <td>...</td>\n      <td>NaN</td>\n      <td>100.0</td>\n      <td>NaN</td>\n      <td>NaN</td>\n      <td>22.2</td>\n      <td>69.0</td>\n      <td>NaN</td>\n      <td>NaN</td>\n      <td>102.0</td>\n      <td>NaN</td>\n    </tr>\n    <tr>\n      <th>12</th>\n      <td>10</td>\n      <td>1</td>\n      <td>71.0</td>\n      <td>NaN</td>\n      <td>NaN</td>\n      <td>NaN</td>\n      <td>NaN</td>\n      <td>NaN</td>\n      <td>NaN</td>\n      <td>NaN</td>\n      <td>...</td>\n      <td>NaN</td>\n      <td>NaN</td>\n      <td>NaN</td>\n      <td>NaN</td>\n      <td>NaN</td>\n      <td>NaN</td>\n      <td>NaN</td>\n      <td>NaN</td>\n      <td>NaN</td>\n      <td>NaN</td>\n    </tr>\n  </tbody>\n</table>\n<p>13 rows × 37 columns</p>\n</div>"
     },
     "execution_count": 2,
     "metadata": {},
     "output_type": "execute_result"
    }
   ],
   "source": [
    "train_features = pd.read_csv('train_features.csv')\n",
    "train_labels = pd.read_csv('train_labels.csv')\n",
    "\n",
    "train_features.head(13)"
   ],
   "metadata": {
    "collapsed": false,
    "pycharm": {
     "name": "#%%\n"
    }
   }
  },
  {
   "cell_type": "code",
   "execution_count": 3,
   "outputs": [],
   "source": [
    "num_of_patient = train_features.pid.nunique()  # number of patients"
   ],
   "metadata": {
    "collapsed": false,
    "pycharm": {
     "name": "#%%\n"
    }
   }
  },
  {
   "cell_type": "code",
   "execution_count": 4,
   "outputs": [
    {
     "data": {
      "text/plain": "pid                 227940\nTime                227940\nAge                 227940\nEtCO2                 9783\nPTT                  10299\nBUN                  20105\nLactate              10756\nTemp                 81115\nHgb                  22295\nHCO3                 12559\nBaseExcess           19887\nRRate               187785\nFibrinogen            2493\nPhosphate            11590\nWBC                  19083\nCreatinine           17792\nPaCO2                21043\nAST                   5761\nFiO2                 26602\nPlatelets            18035\nSaO2                 13014\nGlucose              47036\nABPm                195889\nMagnesium            17523\nPotassium            28393\nABPd                152418\nCalcium              17830\nAlkalinephos          5708\nSpO2                195192\nBilirubin_direct       719\nChloride             13917\nHct                  27297\nHeartrate           200128\nBilirubin_total       5326\nTroponinI             3776\nABPs                191650\npH                   25046\ndtype: int64"
     },
     "execution_count": 4,
     "metadata": {},
     "output_type": "execute_result"
    }
   ],
   "source": [
    "train_features.count()"
   ],
   "metadata": {
    "collapsed": false,
    "pycharm": {
     "name": "#%%\n"
    }
   }
  },
  {
   "cell_type": "code",
   "execution_count": 5,
   "outputs": [
    {
     "data": {
      "text/plain": "         pid  Time   Age   BUN  Temp   Hgb  HCO3  BaseExcess  RRate  \\\n0          1     3  34.0  12.0  36.0   8.7  24.0        -2.0   16.0   \n1          1     4  34.0   NaN  36.0   NaN   NaN        -2.0   16.0   \n2          1     5  34.0   NaN  36.0   NaN   NaN         0.0   18.0   \n3          1     6  34.0   NaN  37.0   NaN   NaN         0.0   18.0   \n4          1     7  34.0   NaN   NaN   NaN   NaN         NaN   18.0   \n...      ...   ...   ...   ...   ...   ...   ...         ...    ...   \n227935  9999     8  85.0   NaN   NaN   NaN   NaN         NaN   17.0   \n227936  9999     9  85.0   NaN   NaN   NaN   NaN         NaN   15.0   \n227937  9999    10  85.0   NaN  36.0   NaN   NaN         NaN   22.0   \n227938  9999    11  85.0   NaN   NaN  10.2   NaN         NaN   22.0   \n227939  9999    12  85.0   NaN   NaN   NaN   NaN         NaN   24.0   \n\n        Phosphate  ...  Magnesium  Potassium  ABPd  Calcium   SpO2  Chloride  \\\n0             NaN  ...        1.2        3.8  61.0      NaN  100.0     114.0   \n1             NaN  ...        NaN        NaN  62.5      NaN  100.0       NaN   \n2             NaN  ...        NaN        NaN  59.0      NaN  100.0       NaN   \n3             NaN  ...        NaN        NaN  49.5      NaN  100.0       NaN   \n4             NaN  ...        1.8        NaN  48.0      NaN  100.0       NaN   \n...           ...  ...        ...        ...   ...      ...    ...       ...   \n227935        NaN  ...        NaN        NaN   NaN      NaN    NaN       NaN   \n227936        NaN  ...        NaN        NaN   NaN      NaN    NaN       NaN   \n227937        NaN  ...        NaN        NaN   NaN      NaN   98.0       NaN   \n227938        NaN  ...        NaN        NaN   NaN      NaN   98.0       NaN   \n227939        NaN  ...        NaN        NaN   NaN      NaN    NaN       NaN   \n\n         Hct  Heartrate   ABPs    pH  \n0       24.6       94.0  142.0  7.33  \n1        NaN       99.0  125.0  7.33  \n2        NaN       92.0  110.0  7.37  \n3        NaN       88.0  104.0  7.37  \n4       22.4       81.0  100.0  7.41  \n...      ...        ...    ...   ...  \n227935   NaN       80.0  110.0   NaN  \n227936   NaN       83.0  123.0   NaN  \n227937   NaN       80.0  138.0   NaN  \n227938  31.0       75.0  125.0   NaN  \n227939   NaN       79.0  128.0   NaN  \n\n[227940 rows x 28 columns]",
      "text/html": "<div>\n<style scoped>\n    .dataframe tbody tr th:only-of-type {\n        vertical-align: middle;\n    }\n\n    .dataframe tbody tr th {\n        vertical-align: top;\n    }\n\n    .dataframe thead th {\n        text-align: right;\n    }\n</style>\n<table border=\"1\" class=\"dataframe\">\n  <thead>\n    <tr style=\"text-align: right;\">\n      <th></th>\n      <th>pid</th>\n      <th>Time</th>\n      <th>Age</th>\n      <th>BUN</th>\n      <th>Temp</th>\n      <th>Hgb</th>\n      <th>HCO3</th>\n      <th>BaseExcess</th>\n      <th>RRate</th>\n      <th>Phosphate</th>\n      <th>...</th>\n      <th>Magnesium</th>\n      <th>Potassium</th>\n      <th>ABPd</th>\n      <th>Calcium</th>\n      <th>SpO2</th>\n      <th>Chloride</th>\n      <th>Hct</th>\n      <th>Heartrate</th>\n      <th>ABPs</th>\n      <th>pH</th>\n    </tr>\n  </thead>\n  <tbody>\n    <tr>\n      <th>0</th>\n      <td>1</td>\n      <td>3</td>\n      <td>34.0</td>\n      <td>12.0</td>\n      <td>36.0</td>\n      <td>8.7</td>\n      <td>24.0</td>\n      <td>-2.0</td>\n      <td>16.0</td>\n      <td>NaN</td>\n      <td>...</td>\n      <td>1.2</td>\n      <td>3.8</td>\n      <td>61.0</td>\n      <td>NaN</td>\n      <td>100.0</td>\n      <td>114.0</td>\n      <td>24.6</td>\n      <td>94.0</td>\n      <td>142.0</td>\n      <td>7.33</td>\n    </tr>\n    <tr>\n      <th>1</th>\n      <td>1</td>\n      <td>4</td>\n      <td>34.0</td>\n      <td>NaN</td>\n      <td>36.0</td>\n      <td>NaN</td>\n      <td>NaN</td>\n      <td>-2.0</td>\n      <td>16.0</td>\n      <td>NaN</td>\n      <td>...</td>\n      <td>NaN</td>\n      <td>NaN</td>\n      <td>62.5</td>\n      <td>NaN</td>\n      <td>100.0</td>\n      <td>NaN</td>\n      <td>NaN</td>\n      <td>99.0</td>\n      <td>125.0</td>\n      <td>7.33</td>\n    </tr>\n    <tr>\n      <th>2</th>\n      <td>1</td>\n      <td>5</td>\n      <td>34.0</td>\n      <td>NaN</td>\n      <td>36.0</td>\n      <td>NaN</td>\n      <td>NaN</td>\n      <td>0.0</td>\n      <td>18.0</td>\n      <td>NaN</td>\n      <td>...</td>\n      <td>NaN</td>\n      <td>NaN</td>\n      <td>59.0</td>\n      <td>NaN</td>\n      <td>100.0</td>\n      <td>NaN</td>\n      <td>NaN</td>\n      <td>92.0</td>\n      <td>110.0</td>\n      <td>7.37</td>\n    </tr>\n    <tr>\n      <th>3</th>\n      <td>1</td>\n      <td>6</td>\n      <td>34.0</td>\n      <td>NaN</td>\n      <td>37.0</td>\n      <td>NaN</td>\n      <td>NaN</td>\n      <td>0.0</td>\n      <td>18.0</td>\n      <td>NaN</td>\n      <td>...</td>\n      <td>NaN</td>\n      <td>NaN</td>\n      <td>49.5</td>\n      <td>NaN</td>\n      <td>100.0</td>\n      <td>NaN</td>\n      <td>NaN</td>\n      <td>88.0</td>\n      <td>104.0</td>\n      <td>7.37</td>\n    </tr>\n    <tr>\n      <th>4</th>\n      <td>1</td>\n      <td>7</td>\n      <td>34.0</td>\n      <td>NaN</td>\n      <td>NaN</td>\n      <td>NaN</td>\n      <td>NaN</td>\n      <td>NaN</td>\n      <td>18.0</td>\n      <td>NaN</td>\n      <td>...</td>\n      <td>1.8</td>\n      <td>NaN</td>\n      <td>48.0</td>\n      <td>NaN</td>\n      <td>100.0</td>\n      <td>NaN</td>\n      <td>22.4</td>\n      <td>81.0</td>\n      <td>100.0</td>\n      <td>7.41</td>\n    </tr>\n    <tr>\n      <th>...</th>\n      <td>...</td>\n      <td>...</td>\n      <td>...</td>\n      <td>...</td>\n      <td>...</td>\n      <td>...</td>\n      <td>...</td>\n      <td>...</td>\n      <td>...</td>\n      <td>...</td>\n      <td>...</td>\n      <td>...</td>\n      <td>...</td>\n      <td>...</td>\n      <td>...</td>\n      <td>...</td>\n      <td>...</td>\n      <td>...</td>\n      <td>...</td>\n      <td>...</td>\n      <td>...</td>\n    </tr>\n    <tr>\n      <th>227935</th>\n      <td>9999</td>\n      <td>8</td>\n      <td>85.0</td>\n      <td>NaN</td>\n      <td>NaN</td>\n      <td>NaN</td>\n      <td>NaN</td>\n      <td>NaN</td>\n      <td>17.0</td>\n      <td>NaN</td>\n      <td>...</td>\n      <td>NaN</td>\n      <td>NaN</td>\n      <td>NaN</td>\n      <td>NaN</td>\n      <td>NaN</td>\n      <td>NaN</td>\n      <td>NaN</td>\n      <td>80.0</td>\n      <td>110.0</td>\n      <td>NaN</td>\n    </tr>\n    <tr>\n      <th>227936</th>\n      <td>9999</td>\n      <td>9</td>\n      <td>85.0</td>\n      <td>NaN</td>\n      <td>NaN</td>\n      <td>NaN</td>\n      <td>NaN</td>\n      <td>NaN</td>\n      <td>15.0</td>\n      <td>NaN</td>\n      <td>...</td>\n      <td>NaN</td>\n      <td>NaN</td>\n      <td>NaN</td>\n      <td>NaN</td>\n      <td>NaN</td>\n      <td>NaN</td>\n      <td>NaN</td>\n      <td>83.0</td>\n      <td>123.0</td>\n      <td>NaN</td>\n    </tr>\n    <tr>\n      <th>227937</th>\n      <td>9999</td>\n      <td>10</td>\n      <td>85.0</td>\n      <td>NaN</td>\n      <td>36.0</td>\n      <td>NaN</td>\n      <td>NaN</td>\n      <td>NaN</td>\n      <td>22.0</td>\n      <td>NaN</td>\n      <td>...</td>\n      <td>NaN</td>\n      <td>NaN</td>\n      <td>NaN</td>\n      <td>NaN</td>\n      <td>98.0</td>\n      <td>NaN</td>\n      <td>NaN</td>\n      <td>80.0</td>\n      <td>138.0</td>\n      <td>NaN</td>\n    </tr>\n    <tr>\n      <th>227938</th>\n      <td>9999</td>\n      <td>11</td>\n      <td>85.0</td>\n      <td>NaN</td>\n      <td>NaN</td>\n      <td>10.2</td>\n      <td>NaN</td>\n      <td>NaN</td>\n      <td>22.0</td>\n      <td>NaN</td>\n      <td>...</td>\n      <td>NaN</td>\n      <td>NaN</td>\n      <td>NaN</td>\n      <td>NaN</td>\n      <td>98.0</td>\n      <td>NaN</td>\n      <td>31.0</td>\n      <td>75.0</td>\n      <td>125.0</td>\n      <td>NaN</td>\n    </tr>\n    <tr>\n      <th>227939</th>\n      <td>9999</td>\n      <td>12</td>\n      <td>85.0</td>\n      <td>NaN</td>\n      <td>NaN</td>\n      <td>NaN</td>\n      <td>NaN</td>\n      <td>NaN</td>\n      <td>24.0</td>\n      <td>NaN</td>\n      <td>...</td>\n      <td>NaN</td>\n      <td>NaN</td>\n      <td>NaN</td>\n      <td>NaN</td>\n      <td>NaN</td>\n      <td>NaN</td>\n      <td>NaN</td>\n      <td>79.0</td>\n      <td>128.0</td>\n      <td>NaN</td>\n    </tr>\n  </tbody>\n</table>\n<p>227940 rows × 28 columns</p>\n</div>"
     },
     "execution_count": 5,
     "metadata": {},
     "output_type": "execute_result"
    }
   ],
   "source": [
    "DEL_threshold = 1 - 0.95\n",
    "DEL_threshold *= train_features.shape[0]\n",
    "\n",
    "train_features_sel = train_features.dropna(axis=1, how='any', thresh=DEL_threshold)\n",
    "train_features_sel"
   ],
   "metadata": {
    "collapsed": false,
    "pycharm": {
     "name": "#%%\n"
    }
   }
  },
  {
   "cell_type": "code",
   "execution_count": 6,
   "outputs": [
    {
     "data": {
      "text/plain": "         Age   BUN  Temp   Hgb  HCO3  BaseExcess  RRate  Phosphate  WBC  \\\n0       34.0  12.0  36.0   8.7  24.0        -2.0   16.0        NaN  6.3   \n1       34.0   NaN  36.0   NaN   NaN        -2.0   16.0        NaN  NaN   \n2       34.0   NaN  36.0   NaN   NaN         0.0   18.0        NaN  NaN   \n3       34.0   NaN  37.0   NaN   NaN         0.0   18.0        NaN  NaN   \n4       34.0   NaN   NaN   NaN   NaN         NaN   18.0        NaN  NaN   \n...      ...   ...   ...   ...   ...         ...    ...        ...  ...   \n227935  85.0   NaN   NaN   NaN   NaN         NaN   17.0        NaN  NaN   \n227936  85.0   NaN   NaN   NaN   NaN         NaN   15.0        NaN  NaN   \n227937  85.0   NaN  36.0   NaN   NaN         NaN   22.0        NaN  NaN   \n227938  85.0   NaN   NaN  10.2   NaN         NaN   22.0        NaN  NaN   \n227939  85.0   NaN   NaN   NaN   NaN         NaN   24.0        NaN  NaN   \n\n        Creatinine  ...  Magnesium  Potassium  ABPd  Calcium   SpO2  Chloride  \\\n0              NaN  ...        1.2        3.8  61.0      NaN  100.0     114.0   \n1              NaN  ...        NaN        NaN  62.5      NaN  100.0       NaN   \n2              NaN  ...        NaN        NaN  59.0      NaN  100.0       NaN   \n3              NaN  ...        NaN        NaN  49.5      NaN  100.0       NaN   \n4              NaN  ...        1.8        NaN  48.0      NaN  100.0       NaN   \n...            ...  ...        ...        ...   ...      ...    ...       ...   \n227935         NaN  ...        NaN        NaN   NaN      NaN    NaN       NaN   \n227936         NaN  ...        NaN        NaN   NaN      NaN    NaN       NaN   \n227937         NaN  ...        NaN        NaN   NaN      NaN   98.0       NaN   \n227938         NaN  ...        NaN        NaN   NaN      NaN   98.0       NaN   \n227939         NaN  ...        NaN        NaN   NaN      NaN    NaN       NaN   \n\n         Hct  Heartrate   ABPs    pH  \n0       24.6       94.0  142.0  7.33  \n1        NaN       99.0  125.0  7.33  \n2        NaN       92.0  110.0  7.37  \n3        NaN       88.0  104.0  7.37  \n4       22.4       81.0  100.0  7.41  \n...      ...        ...    ...   ...  \n227935   NaN       80.0  110.0   NaN  \n227936   NaN       83.0  123.0   NaN  \n227937   NaN       80.0  138.0   NaN  \n227938  31.0       75.0  125.0   NaN  \n227939   NaN       79.0  128.0   NaN  \n\n[227940 rows x 26 columns]",
      "text/html": "<div>\n<style scoped>\n    .dataframe tbody tr th:only-of-type {\n        vertical-align: middle;\n    }\n\n    .dataframe tbody tr th {\n        vertical-align: top;\n    }\n\n    .dataframe thead th {\n        text-align: right;\n    }\n</style>\n<table border=\"1\" class=\"dataframe\">\n  <thead>\n    <tr style=\"text-align: right;\">\n      <th></th>\n      <th>Age</th>\n      <th>BUN</th>\n      <th>Temp</th>\n      <th>Hgb</th>\n      <th>HCO3</th>\n      <th>BaseExcess</th>\n      <th>RRate</th>\n      <th>Phosphate</th>\n      <th>WBC</th>\n      <th>Creatinine</th>\n      <th>...</th>\n      <th>Magnesium</th>\n      <th>Potassium</th>\n      <th>ABPd</th>\n      <th>Calcium</th>\n      <th>SpO2</th>\n      <th>Chloride</th>\n      <th>Hct</th>\n      <th>Heartrate</th>\n      <th>ABPs</th>\n      <th>pH</th>\n    </tr>\n  </thead>\n  <tbody>\n    <tr>\n      <th>0</th>\n      <td>34.0</td>\n      <td>12.0</td>\n      <td>36.0</td>\n      <td>8.7</td>\n      <td>24.0</td>\n      <td>-2.0</td>\n      <td>16.0</td>\n      <td>NaN</td>\n      <td>6.3</td>\n      <td>NaN</td>\n      <td>...</td>\n      <td>1.2</td>\n      <td>3.8</td>\n      <td>61.0</td>\n      <td>NaN</td>\n      <td>100.0</td>\n      <td>114.0</td>\n      <td>24.6</td>\n      <td>94.0</td>\n      <td>142.0</td>\n      <td>7.33</td>\n    </tr>\n    <tr>\n      <th>1</th>\n      <td>34.0</td>\n      <td>NaN</td>\n      <td>36.0</td>\n      <td>NaN</td>\n      <td>NaN</td>\n      <td>-2.0</td>\n      <td>16.0</td>\n      <td>NaN</td>\n      <td>NaN</td>\n      <td>NaN</td>\n      <td>...</td>\n      <td>NaN</td>\n      <td>NaN</td>\n      <td>62.5</td>\n      <td>NaN</td>\n      <td>100.0</td>\n      <td>NaN</td>\n      <td>NaN</td>\n      <td>99.0</td>\n      <td>125.0</td>\n      <td>7.33</td>\n    </tr>\n    <tr>\n      <th>2</th>\n      <td>34.0</td>\n      <td>NaN</td>\n      <td>36.0</td>\n      <td>NaN</td>\n      <td>NaN</td>\n      <td>0.0</td>\n      <td>18.0</td>\n      <td>NaN</td>\n      <td>NaN</td>\n      <td>NaN</td>\n      <td>...</td>\n      <td>NaN</td>\n      <td>NaN</td>\n      <td>59.0</td>\n      <td>NaN</td>\n      <td>100.0</td>\n      <td>NaN</td>\n      <td>NaN</td>\n      <td>92.0</td>\n      <td>110.0</td>\n      <td>7.37</td>\n    </tr>\n    <tr>\n      <th>3</th>\n      <td>34.0</td>\n      <td>NaN</td>\n      <td>37.0</td>\n      <td>NaN</td>\n      <td>NaN</td>\n      <td>0.0</td>\n      <td>18.0</td>\n      <td>NaN</td>\n      <td>NaN</td>\n      <td>NaN</td>\n      <td>...</td>\n      <td>NaN</td>\n      <td>NaN</td>\n      <td>49.5</td>\n      <td>NaN</td>\n      <td>100.0</td>\n      <td>NaN</td>\n      <td>NaN</td>\n      <td>88.0</td>\n      <td>104.0</td>\n      <td>7.37</td>\n    </tr>\n    <tr>\n      <th>4</th>\n      <td>34.0</td>\n      <td>NaN</td>\n      <td>NaN</td>\n      <td>NaN</td>\n      <td>NaN</td>\n      <td>NaN</td>\n      <td>18.0</td>\n      <td>NaN</td>\n      <td>NaN</td>\n      <td>NaN</td>\n      <td>...</td>\n      <td>1.8</td>\n      <td>NaN</td>\n      <td>48.0</td>\n      <td>NaN</td>\n      <td>100.0</td>\n      <td>NaN</td>\n      <td>22.4</td>\n      <td>81.0</td>\n      <td>100.0</td>\n      <td>7.41</td>\n    </tr>\n    <tr>\n      <th>...</th>\n      <td>...</td>\n      <td>...</td>\n      <td>...</td>\n      <td>...</td>\n      <td>...</td>\n      <td>...</td>\n      <td>...</td>\n      <td>...</td>\n      <td>...</td>\n      <td>...</td>\n      <td>...</td>\n      <td>...</td>\n      <td>...</td>\n      <td>...</td>\n      <td>...</td>\n      <td>...</td>\n      <td>...</td>\n      <td>...</td>\n      <td>...</td>\n      <td>...</td>\n      <td>...</td>\n    </tr>\n    <tr>\n      <th>227935</th>\n      <td>85.0</td>\n      <td>NaN</td>\n      <td>NaN</td>\n      <td>NaN</td>\n      <td>NaN</td>\n      <td>NaN</td>\n      <td>17.0</td>\n      <td>NaN</td>\n      <td>NaN</td>\n      <td>NaN</td>\n      <td>...</td>\n      <td>NaN</td>\n      <td>NaN</td>\n      <td>NaN</td>\n      <td>NaN</td>\n      <td>NaN</td>\n      <td>NaN</td>\n      <td>NaN</td>\n      <td>80.0</td>\n      <td>110.0</td>\n      <td>NaN</td>\n    </tr>\n    <tr>\n      <th>227936</th>\n      <td>85.0</td>\n      <td>NaN</td>\n      <td>NaN</td>\n      <td>NaN</td>\n      <td>NaN</td>\n      <td>NaN</td>\n      <td>15.0</td>\n      <td>NaN</td>\n      <td>NaN</td>\n      <td>NaN</td>\n      <td>...</td>\n      <td>NaN</td>\n      <td>NaN</td>\n      <td>NaN</td>\n      <td>NaN</td>\n      <td>NaN</td>\n      <td>NaN</td>\n      <td>NaN</td>\n      <td>83.0</td>\n      <td>123.0</td>\n      <td>NaN</td>\n    </tr>\n    <tr>\n      <th>227937</th>\n      <td>85.0</td>\n      <td>NaN</td>\n      <td>36.0</td>\n      <td>NaN</td>\n      <td>NaN</td>\n      <td>NaN</td>\n      <td>22.0</td>\n      <td>NaN</td>\n      <td>NaN</td>\n      <td>NaN</td>\n      <td>...</td>\n      <td>NaN</td>\n      <td>NaN</td>\n      <td>NaN</td>\n      <td>NaN</td>\n      <td>98.0</td>\n      <td>NaN</td>\n      <td>NaN</td>\n      <td>80.0</td>\n      <td>138.0</td>\n      <td>NaN</td>\n    </tr>\n    <tr>\n      <th>227938</th>\n      <td>85.0</td>\n      <td>NaN</td>\n      <td>NaN</td>\n      <td>10.2</td>\n      <td>NaN</td>\n      <td>NaN</td>\n      <td>22.0</td>\n      <td>NaN</td>\n      <td>NaN</td>\n      <td>NaN</td>\n      <td>...</td>\n      <td>NaN</td>\n      <td>NaN</td>\n      <td>NaN</td>\n      <td>NaN</td>\n      <td>98.0</td>\n      <td>NaN</td>\n      <td>31.0</td>\n      <td>75.0</td>\n      <td>125.0</td>\n      <td>NaN</td>\n    </tr>\n    <tr>\n      <th>227939</th>\n      <td>85.0</td>\n      <td>NaN</td>\n      <td>NaN</td>\n      <td>NaN</td>\n      <td>NaN</td>\n      <td>NaN</td>\n      <td>24.0</td>\n      <td>NaN</td>\n      <td>NaN</td>\n      <td>NaN</td>\n      <td>...</td>\n      <td>NaN</td>\n      <td>NaN</td>\n      <td>NaN</td>\n      <td>NaN</td>\n      <td>NaN</td>\n      <td>NaN</td>\n      <td>NaN</td>\n      <td>79.0</td>\n      <td>128.0</td>\n      <td>NaN</td>\n    </tr>\n  </tbody>\n</table>\n<p>227940 rows × 26 columns</p>\n</div>"
     },
     "execution_count": 6,
     "metadata": {},
     "output_type": "execute_result"
    }
   ],
   "source": [
    "train_features_sel.iloc[:, 2:]"
   ],
   "metadata": {
    "collapsed": false,
    "pycharm": {
     "name": "#%%\n"
    }
   }
  },
  {
   "cell_type": "code",
   "execution_count": 7,
   "outputs": [],
   "source": [
    "train_mat = train_features_sel.iloc[:, 2:].to_numpy()\n",
    "train_mat = train_mat.reshape(num_of_patient, 12, -1)"
   ],
   "metadata": {
    "collapsed": false,
    "pycharm": {
     "name": "#%%\n"
    }
   }
  },
  {
   "cell_type": "code",
   "execution_count": 8,
   "outputs": [],
   "source": [
    "pids = train_features.pid.to_numpy()"
   ],
   "metadata": {
    "collapsed": false,
    "pycharm": {
     "name": "#%%\n"
    }
   }
  },
  {
   "cell_type": "code",
   "execution_count": 40,
   "outputs": [
    {
     "name": "stdout",
     "output_type": "stream",
     "text": [
      "[36.         36.         36.         37.         36.72413793 37.\n",
      " 37.         37.         37.55172414 38.         37.96551724 38.17241379]\n",
      "[[ 34.          12.          36.           8.7         24.\n",
      "   -2.          16.                  nan   6.3                 nan\n",
      "   45.                  nan          nan          nan          nan\n",
      "   84.           1.2          3.8         61.                  nan\n",
      "  100.         114.          24.6         94.         142.\n",
      "    7.33      ]\n",
      " [ 34.                  nan  36.                  nan          nan\n",
      "   -2.          16.                  nan          nan          nan\n",
      "           nan   0.5                 nan          nan          nan\n",
      "   81.                  nan          nan  62.5                 nan\n",
      "  100.                  nan          nan  99.         125.\n",
      "    7.33      ]\n",
      " [ 34.                  nan  36.                  nan          nan\n",
      "    0.          18.                  nan          nan          nan\n",
      "   43.           0.4                 nan          nan          nan\n",
      "   74.                  nan          nan  59.                  nan\n",
      "  100.                  nan          nan  92.         110.\n",
      "    7.37      ]\n",
      " [ 34.                  nan  37.                  nan          nan\n",
      "    0.          18.                  nan          nan          nan\n",
      "           nan          nan          nan          nan          nan\n",
      "   66.                  nan          nan  49.5                 nan\n",
      "  100.                  nan          nan  88.         104.\n",
      "    7.37      ]\n",
      " [ 34.                  nan  36.72413793          nan          nan\n",
      "           nan  18.                  nan          nan          nan\n",
      "           nan          nan          nan          nan          nan\n",
      "   63.           1.8                 nan  48.                  nan\n",
      "  100.                  nan  22.4         81.         100.\n",
      "    7.41      ]\n",
      " [ 34.                  nan  37.                  nan          nan\n",
      "           nan  16.                  nan          nan          nan\n",
      "           nan   0.4                 nan          nan          nan\n",
      "   68.           1.8                 nan  51.                  nan\n",
      "  100.                  nan  22.4         82.         106.\n",
      "           nan]\n",
      " [ 34.                  nan  37.                  nan          nan\n",
      "           nan  18.                  nan          nan          nan\n",
      "           nan          nan          nan          nan          nan\n",
      "   65.                  nan          nan  46.                  nan\n",
      "  100.                  nan          nan  67.         112.\n",
      "           nan]\n",
      " [ 34.                  nan  37.                  nan          nan\n",
      "           nan  18.                  nan          nan          nan\n",
      "           nan          nan          nan          nan          nan\n",
      "   68.                  nan          nan  47.                  nan\n",
      "  100.                  nan          nan  62.         121.\n",
      "           nan]\n",
      " [ 34.          12.          37.55172414   8.5         26.\n",
      "           nan  12.           4.6          4.7          0.5\n",
      "           nan          nan 143.                  nan 120.\n",
      "   67.           2.1          4.1         47.           7.6\n",
      "  100.         111.          23.8         58.         118.\n",
      "           nan]\n",
      " [ 34.          12.          38.           8.5         26.\n",
      "    0.          18.                  nan   4.7                 nan\n",
      "   42.           0.4                 nan          nan          nan\n",
      "   62.           2.1          4.1         44.                  nan\n",
      "  100.         111.          23.8         66.         110.\n",
      "    7.39      ]\n",
      " [ 34.                  nan  37.96551724          nan          nan\n",
      "    0.          18.                  nan          nan          nan\n",
      "           nan          nan          nan          nan          nan\n",
      "   69.                  nan          nan  49.                  nan\n",
      "  100.                  nan          nan  67.         124.\n",
      "    7.39      ]\n",
      " [ 34.                  nan  38.17241379          nan          nan\n",
      "           nan  18.                  nan          nan          nan\n",
      "           nan          nan          nan          nan          nan\n",
      "   53.                  nan          nan  39.                  nan\n",
      "  100.                  nan  22.2         69.         102.\n",
      "           nan]]\n"
     ]
    }
   ],
   "source": [
    "def interpolate(mat: np.ndarray, pid_ind: int, col_ind: int) -> np.ndarray:\n",
    "    data = mat.copy()\n",
    "    patdata = data[pid_ind]\n",
    "    isnan_ind = np.nonzero(np.isnan(patdata[:, col_ind]))[0]\n",
    "    notnan_ind = np.nonzero(1 - np.isnan(patdata[:, col_ind]))[0]\n",
    "    assert 0 < isnan_ind.shape[0] <= patdata.shape[0] - 2\n",
    "    # print(patdata[notnan_ind, col_ind])\n",
    "    lreg = LinearRegression()\n",
    "    # TODO: generate the sample weight so that the nearby data weighs more than the far ones\n",
    "    lreg.fit(notnan_ind.reshape(-1, 1), patdata[notnan_ind, col_ind])\n",
    "    patdata[isnan_ind, col_ind] = lreg.predict(isnan_ind.reshape(-1, 1))\n",
    "    print(patdata[:, col_ind])\n",
    "    data[pid_ind] = patdata\n",
    "    print(data[pid_ind])\n",
    "    return data\n",
    "\n",
    "t = interpolate(mat=train_mat, pid_ind=0, col_ind=2)"
   ],
   "metadata": {
    "collapsed": false,
    "pycharm": {
     "name": "#%%\n"
    }
   }
  },
  {
   "cell_type": "code",
   "execution_count": 15,
   "outputs": [
    {
     "data": {
      "text/plain": "array([[ 3.40000000e+01,  1.20000000e+01,  3.60000000e+01,\n         8.70000000e+00,  2.40000000e+01, -2.00000000e+00,\n         1.60000000e+01,  4.60000000e+00,  6.30000000e+00,\n         5.00000000e-01,  4.50000000e+01,  4.40489176e-01,\n         1.43000000e+02,  1.20000000e+02,  8.40000000e+01,\n         1.20000000e+00,  3.80000000e+00,  6.10000000e+01,\n         7.60000000e+00,  1.00000000e+02,  1.14000000e+02,\n         2.46000000e+01,  9.40000000e+01,  1.42000000e+02,\n         7.33000000e+00],\n       [ 3.40000000e+01,  1.20000000e+01,  3.60000000e+01,\n         8.61475178e+00,  2.48524822e+01, -2.00000000e+00,\n         1.60000000e+01,  4.60000000e+00,  5.61801423e+00,\n         5.00000000e-01,  4.36473706e+01,  5.00000000e-01,\n         1.43000000e+02,  1.20000000e+02,  8.10000000e+01,\n         1.66112393e+00,  3.92787233e+00,  6.25000000e+01,\n         7.60000000e+00,  1.00000000e+02,  1.12721277e+02,\n         2.35931233e+01,  9.90000000e+01,  1.25000000e+02,\n         7.33000000e+00],\n       [ 3.40000000e+01,  1.20000000e+01,  3.60000000e+01,\n         8.57145333e+00,  2.52854667e+01,  0.00000000e+00,\n         1.80000000e+01,  4.60000000e+00,  5.27162660e+00,\n         5.00000000e-01,  4.30000000e+01,  4.00000000e-01,\n         1.43000000e+02,  1.20000000e+02,  7.40000000e+01,\n         1.79027176e+00,  3.99282001e+00,  5.90000000e+01,\n         7.60000000e+00,  1.00000000e+02,  1.12071800e+02,\n         2.29779184e+01,  9.20000000e+01,  1.10000000e+02,\n         7.37000000e+00],\n       [ 3.40000000e+01,  1.20000000e+01,  3.70000000e+01,\n         8.55069584e+00,  2.54930416e+01,  0.00000000e+00,\n         1.80000000e+01,  4.60000000e+00,  5.10556669e+00,\n         5.00000000e-01,  4.30250483e+01,  4.11930728e-01,\n         1.43000000e+02,  1.20000000e+02,  6.60000000e+01,\n         1.82021209e+00,  4.02395625e+00,  4.95000000e+01,\n         7.60000000e+00,  1.00000000e+02,  1.11760438e+02,\n         2.26646389e+01,  8.80000000e+01,  1.04000000e+02,\n         7.37000000e+00],\n       [ 3.40000000e+01,  1.20000000e+01,  3.70350408e+01,\n         8.53763581e+00,  2.56236419e+01, -1.83670346e-01,\n         1.80000000e+01,  4.60000000e+00,  5.00108648e+00,\n         5.00000000e-01,  4.28757428e+01,  4.10162575e-01,\n         1.43000000e+02,  1.20000000e+02,  6.30000000e+01,\n         1.80000000e+00,  4.04354628e+00,  4.80000000e+01,\n         7.60000000e+00,  1.00000000e+02,  1.11564537e+02,\n         2.24000000e+01,  8.10000000e+01,  1.00000000e+02,\n         7.41000000e+00],\n       [ 3.40000000e+01,  1.20000000e+01,  3.70000000e+01,\n         8.54167347e+00,  2.55832653e+01, -1.97625654e-01,\n         1.60000000e+01,  4.60000000e+00,  5.03338774e+00,\n         5.00000000e-01,  4.29448006e+01,  4.00000000e-01,\n         1.43000000e+02,  1.20000000e+02,  6.80000000e+01,\n         1.80000000e+00,  4.03748980e+00,  5.10000000e+01,\n         7.60000000e+00,  1.00000000e+02,  1.11625102e+02,\n         2.24000000e+01,  8.20000000e+01,  1.06000000e+02,\n         7.38587371e+00],\n       [ 3.40000000e+01,  1.20000000e+01,  3.70000000e+01,\n         8.51305852e+00,  2.58694148e+01, -1.19423887e-01,\n         1.80000000e+01,  4.60000000e+00,  4.80446813e+00,\n         5.00000000e-01,  4.23424709e+01,  4.06975844e-01,\n         1.43000000e+02,  1.20000000e+02,  6.50000000e+01,\n         1.98108520e+00,  4.08041223e+00,  4.60000000e+01,\n         7.60000000e+00,  1.00000000e+02,  1.11195878e+02,\n         2.32893434e+01,  6.70000000e+01,  1.12000000e+02,\n         7.38871871e+00],\n       [ 3.40000000e+01,  1.20000000e+01,  3.70000000e+01,\n         8.52116635e+00,  2.57883365e+01, -1.53011563e-01,\n         1.80000000e+01,  4.60000000e+00,  4.86933083e+00,\n         5.00000000e-01,  4.27746190e+01,  4.14226254e-01,\n         1.43000000e+02,  1.20000000e+02,  6.80000000e+01,\n         1.95354240e+00,  4.06825047e+00,  4.70000000e+01,\n         7.60000000e+00,  1.00000000e+02,  1.11317495e+02,\n         2.32758209e+01,  6.20000000e+01,  1.21000000e+02,\n         7.38821137e+00],\n       [ 3.40000000e+01,  1.20000000e+01,  3.71940546e+01,\n         8.50000000e+00,  2.60000000e+01, -2.22882568e-01,\n         1.20000000e+01,  4.60000000e+00,  4.70000000e+00,\n         5.00000000e-01,  4.27245030e+01,  4.11093028e-01,\n         1.43000000e+02,  1.20000000e+02,  6.70000000e+01,\n         2.10000000e+00,  4.10000000e+00,  4.70000000e+01,\n         7.60000000e+00,  1.00000000e+02,  1.11000000e+02,\n         2.38000000e+01,  5.80000000e+01,  1.18000000e+02,\n         7.38415616e+00],\n       [ 3.40000000e+01,  1.20000000e+01,  3.80000000e+01,\n         8.50000000e+00,  2.60000000e+01,  0.00000000e+00,\n         1.80000000e+01,  4.60000000e+00,  4.70000000e+00,\n         5.00000000e-01,  4.20000000e+01,  4.00000000e-01,\n         1.43000000e+02,  1.20000000e+02,  6.20000000e+01,\n         2.10000000e+00,  4.10000000e+00,  4.40000000e+01,\n         7.60000000e+00,  1.00000000e+02,  1.11000000e+02,\n         2.38000000e+01,  6.60000000e+01,  1.10000000e+02,\n         7.39000000e+00],\n       [ 3.40000000e+01,  1.20000000e+01,  3.71779132e+01,\n         8.53375258e+00,  2.56624742e+01,  0.00000000e+00,\n         1.80000000e+01,  4.60000000e+00,  4.97002066e+00,\n         5.00000000e-01,  4.29343611e+01,  4.17197762e-01,\n         1.43000000e+02,  1.20000000e+02,  6.90000000e+01,\n         1.90216097e+00,  4.04937113e+00,  4.90000000e+01,\n         7.60000000e+00,  1.00000000e+02,  1.11506289e+02,\n         2.31628192e+01,  6.70000000e+01,  1.24000000e+02,\n         7.39000000e+00],\n       [ 3.40000000e+01,  1.20000000e+01,  3.73053364e+01,\n         8.52552383e+00,  2.57447617e+01, -1.91398623e-01,\n         1.80000000e+01,  4.60000000e+00,  4.90419061e+00,\n         5.00000000e-01,  4.26425994e+01,  4.11177905e-01,\n         1.43000000e+02,  1.20000000e+02,  5.30000000e+01,\n         1.90552515e+00,  4.06171426e+00,  3.90000000e+01,\n         7.60000000e+00,  1.00000000e+02,  1.11382857e+02,\n         2.22000000e+01,  6.90000000e+01,  1.02000000e+02,\n         7.38942386e+00]])"
     },
     "execution_count": 15,
     "metadata": {},
     "output_type": "execute_result"
    }
   ],
   "source": [
    "from sklearn.impute import KNNImputer\n",
    "\n",
    "def imputer(mat: np.ndarray, pid_ind: int, col_ind: int) -> np.ndarray:\n",
    "    imp = KNNImputer(n_neighbors=5, weights=\"distance\")\n",
    "    x = imp.fit_transform(X=mat[pid_ind, :, :])\n",
    "    return x\n",
    "\n",
    "imputer(mat=train_mat, pid_ind=0, col_ind=2)"
   ],
   "metadata": {
    "collapsed": false,
    "pycharm": {
     "name": "#%%\n"
    }
   }
  },
  {
   "cell_type": "code",
   "execution_count": 16,
   "outputs": [
    {
     "data": {
      "text/plain": "array([[ 34.  ,  12.  ,  36.  ,   8.7 ,  24.  ,  -2.  ,  16.  ,    nan,\n          6.3 ,    nan,  45.  ,    nan,    nan,    nan,    nan,  84.  ,\n          1.2 ,   3.8 ,  61.  ,    nan, 100.  , 114.  ,  24.6 ,  94.  ,\n        142.  ,   7.33],\n       [ 34.  ,    nan,  36.  ,    nan,    nan,  -2.  ,  16.  ,    nan,\n           nan,    nan,    nan,   0.5 ,    nan,    nan,    nan,  81.  ,\n           nan,    nan,  62.5 ,    nan, 100.  ,    nan,    nan,  99.  ,\n        125.  ,   7.33],\n       [ 34.  ,    nan,  36.  ,    nan,    nan,   0.  ,  18.  ,    nan,\n           nan,    nan,  43.  ,   0.4 ,    nan,    nan,    nan,  74.  ,\n           nan,    nan,  59.  ,    nan, 100.  ,    nan,    nan,  92.  ,\n        110.  ,   7.37],\n       [ 34.  ,    nan,  37.  ,    nan,    nan,   0.  ,  18.  ,    nan,\n           nan,    nan,    nan,    nan,    nan,    nan,    nan,  66.  ,\n           nan,    nan,  49.5 ,    nan, 100.  ,    nan,    nan,  88.  ,\n        104.  ,   7.37],\n       [ 34.  ,    nan,    nan,    nan,    nan,    nan,  18.  ,    nan,\n           nan,    nan,    nan,    nan,    nan,    nan,    nan,  63.  ,\n          1.8 ,    nan,  48.  ,    nan, 100.  ,    nan,  22.4 ,  81.  ,\n        100.  ,   7.41],\n       [ 34.  ,    nan,  37.  ,    nan,    nan,    nan,  16.  ,    nan,\n           nan,    nan,    nan,   0.4 ,    nan,    nan,    nan,  68.  ,\n          1.8 ,    nan,  51.  ,    nan, 100.  ,    nan,  22.4 ,  82.  ,\n        106.  ,    nan],\n       [ 34.  ,    nan,  37.  ,    nan,    nan,    nan,  18.  ,    nan,\n           nan,    nan,    nan,    nan,    nan,    nan,    nan,  65.  ,\n           nan,    nan,  46.  ,    nan, 100.  ,    nan,    nan,  67.  ,\n        112.  ,    nan],\n       [ 34.  ,    nan,  37.  ,    nan,    nan,    nan,  18.  ,    nan,\n           nan,    nan,    nan,    nan,    nan,    nan,    nan,  68.  ,\n           nan,    nan,  47.  ,    nan, 100.  ,    nan,    nan,  62.  ,\n        121.  ,    nan],\n       [ 34.  ,  12.  ,    nan,   8.5 ,  26.  ,    nan,  12.  ,   4.6 ,\n          4.7 ,   0.5 ,    nan,    nan, 143.  ,    nan, 120.  ,  67.  ,\n          2.1 ,   4.1 ,  47.  ,   7.6 , 100.  , 111.  ,  23.8 ,  58.  ,\n        118.  ,    nan],\n       [ 34.  ,  12.  ,  38.  ,   8.5 ,  26.  ,   0.  ,  18.  ,    nan,\n          4.7 ,    nan,  42.  ,   0.4 ,    nan,    nan,    nan,  62.  ,\n          2.1 ,   4.1 ,  44.  ,    nan, 100.  , 111.  ,  23.8 ,  66.  ,\n        110.  ,   7.39],\n       [ 34.  ,    nan,    nan,    nan,    nan,   0.  ,  18.  ,    nan,\n           nan,    nan,    nan,    nan,    nan,    nan,    nan,  69.  ,\n           nan,    nan,  49.  ,    nan, 100.  ,    nan,    nan,  67.  ,\n        124.  ,   7.39],\n       [ 34.  ,    nan,    nan,    nan,    nan,    nan,  18.  ,    nan,\n           nan,    nan,    nan,    nan,    nan,    nan,    nan,  53.  ,\n           nan,    nan,  39.  ,    nan, 100.  ,    nan,  22.2 ,  69.  ,\n        102.  ,    nan]])"
     },
     "execution_count": 16,
     "metadata": {},
     "output_type": "execute_result"
    }
   ],
   "source": [
    "train_mat[0, :, :]"
   ],
   "metadata": {
    "collapsed": false,
    "pycharm": {
     "name": "#%%\n"
    }
   }
  }
 ],
 "metadata": {
  "kernelspec": {
   "display_name": "Python 3",
   "language": "python",
   "name": "python3"
  },
  "language_info": {
   "codemirror_mode": {
    "name": "ipython",
    "version": 2
   },
   "file_extension": ".py",
   "mimetype": "text/x-python",
   "name": "python",
   "nbconvert_exporter": "python",
   "pygments_lexer": "ipython2",
   "version": "2.7.6"
  }
 },
 "nbformat": 4,
 "nbformat_minor": 0
}