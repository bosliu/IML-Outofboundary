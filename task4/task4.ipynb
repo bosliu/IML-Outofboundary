{
  "nbformat": 4,
  "nbformat_minor": 0,
  "metadata": {
    "colab": {
      "name": "Untitled2.ipynb",
      "provenance": [],
      "machine_shape": "hm"
    },
    "kernelspec": {
      "name": "python3",
      "display_name": "Python 3"
    },
    "language_info": {
      "name": "python"
    },
    "accelerator": "GPU"
  },
  "cells": [
    {
      "cell_type": "code",
      "execution_count": null,
      "metadata": {
        "id": "rf1x1Yt5w4jA"
      },
      "outputs": [],
      "source": [
        "import pandas as pd\n",
        "import numpy as np\n",
        "import os\n",
        "import torch\n",
        "import torch.nn as nn\n",
        "import torch.nn.functional as F"
      ]
    },
    {
      "cell_type": "code",
      "source": [
        "%cd /content/drive/MyDrive/task4\n",
        "os.getcwd()"
      ],
      "metadata": {
        "colab": {
          "base_uri": "https://localhost:8080/",
          "height": 53
        },
        "id": "duT9lsYFzt27",
        "outputId": "4dbcd94e-881a-4409-a81d-9d7141a293fd"
      },
      "execution_count": null,
      "outputs": [
        {
          "output_type": "stream",
          "name": "stdout",
          "text": [
            "/content/drive/MyDrive/task4\n"
          ]
        },
        {
          "output_type": "execute_result",
          "data": {
            "text/plain": [
              "'/content/drive/MyDrive/task4'"
            ],
            "application/vnd.google.colaboratory.intrinsic+json": {
              "type": "string"
            }
          },
          "metadata": {},
          "execution_count": 5
        }
      ]
    },
    {
      "cell_type": "code",
      "source": [
        "class Data:\n",
        "    def __init__(self, dpath):\n",
        "        self.pfeatures = pd.read_csv(os.path.join(dpath, 'pretrain_features.csv')).to_numpy()[:, 2:]\n",
        "        self.plabels = pd.read_csv(os.path.join(dpath, 'pretrain_labels.csv')).to_numpy()[:, 2:]\n",
        "        self.tfeatures = pd.read_csv(os.path.join(dpath, 'train_features.csv')).to_numpy()[:, 2:]\n",
        "        self.tlabels = pd.read_csv(os.path.join(dpath, 'train_labels.csv')).to_numpy()[:, 2:]\n",
        "        self.testfeatures = pd.read_csv(os.path.join(dpath, 'test_features.csv')).to_numpy()[:, 2:]"
      ],
      "metadata": {
        "id": "WiwedJNDxJvE"
      },
      "execution_count": null,
      "outputs": []
    },
    {
      "cell_type": "code",
      "source": [
        "path = os.getcwd()\n",
        "dpath = os.path.join(path, '')\n",
        "data = Data(dpath)"
      ],
      "metadata": {
        "id": "FCVetL8HxSdd"
      },
      "execution_count": null,
      "outputs": []
    },
    {
      "cell_type": "code",
      "source": [
        "class AutoEncoder(nn.Module):\n",
        "  def __init__(self):\n",
        "      self.Encoded_dim = 128,\n",
        "      super().__init__()\n",
        "      self.encoder = nn.Sequential(\n",
        "          nn.Linear(in_features=1000, out_features=512),\n",
        "          nn.PReLU(),\n",
        "          nn.Linear(in_features=512, out_features=256),\n",
        "          nn.PReLU(),\n",
        "          nn.Linear(in_features=256, out_features=self.Encoded_dim),\n",
        "          # nn.PReLU(),\n",
        "      )\n",
        "      self.decoder = nn.Sequential(\n",
        "          nn.Linear(in_features=self.Encoded_dim, out_features=256),\n",
        "          nn.PReLU(),\n",
        "          nn.Linear(in_features=256, out_features=512),\n",
        "          nn.PReLU(),\n",
        "          nn.Linear(in_features=512, out_features=1000),\n",
        "      )\n",
        "  \n",
        "  def forward(self, x):\n",
        "    enc = self.encoder(x)\n",
        "    return self.decoder(enc), enc"
      ],
      "metadata": {
        "id": "SDmAevDGx1bJ"
      },
      "execution_count": null,
      "outputs": []
    },
    {
      "cell_type": "code",
      "source": [
        "class MoleculeDataSet(torch.utils.data.Dataset):\n",
        "  def __init__(self, Data ):\n",
        "    "
      ],
      "metadata": {
        "id": "MurryfOG0YRD"
      },
      "execution_count": null,
      "outputs": []
    },
    {
      "cell_type": "code",
      "source": [
        "def train():\n",
        "  pass"
      ],
      "metadata": {
        "id": "Hs2jv72A0N5b"
      },
      "execution_count": null,
      "outputs": []
    }
  ]
}