{
 "cells": [
  {
   "cell_type": "markdown",
   "metadata": {
    "colab_type": "text",
    "id": "view-in-github"
   },
   "source": [
    "<a href=\"https://colab.research.google.com/github/bosliu/IML-Outofboundary/blob/main/task0/task0.ipynb\" target=\"_parent\"><img src=\"https://colab.research.google.com/assets/colab-badge.svg\" alt=\"Open In Colab\"/></a>"
   ]
  },
  {
   "cell_type": "markdown",
   "metadata": {
    "collapsed": true,
    "id": "l_znsbSswjX2",
    "pycharm": {
     "name": "#%% md\n"
    }
   },
   "source": [
    "# Task 0"
   ]
  },
  {
   "cell_type": "code",
   "execution_count": 1,
   "metadata": {
    "id": "i8_texIcwjX5",
    "pycharm": {
     "name": "#%%\n"
    }
   },
   "outputs": [],
   "source": [
    "import pandas as pd\n",
    "import numpy as np\n",
    "\n",
    "from typing import List, Union, Optional, Tuple\n",
    "\n",
    "train: pd.DataFrame = pd.read_csv('train.csv')\n",
    "# test: pd.DataFrame = pd.read_csv('test.csv')"
   ]
  },
  {
   "cell_type": "code",
   "execution_count": 2,
   "metadata": {
    "colab": {
     "base_uri": "https://localhost:8080/",
     "height": 206
    },
    "id": "oNMTZF32wjX6",
    "outputId": "0b9e0b3b-0aa3-4d23-ee4b-abf28c071754",
    "pycharm": {
     "name": "#%%\n"
    }
   },
   "outputs": [
    {
     "data": {
      "text/html": [
       "<div>\n",
       "<style scoped>\n",
       "    .dataframe tbody tr th:only-of-type {\n",
       "        vertical-align: middle;\n",
       "    }\n",
       "\n",
       "    .dataframe tbody tr th {\n",
       "        vertical-align: top;\n",
       "    }\n",
       "\n",
       "    .dataframe thead th {\n",
       "        text-align: right;\n",
       "    }\n",
       "</style>\n",
       "<table border=\"1\" class=\"dataframe\">\n",
       "  <thead>\n",
       "    <tr style=\"text-align: right;\">\n",
       "      <th></th>\n",
       "      <th>Id</th>\n",
       "      <th>y</th>\n",
       "      <th>x1</th>\n",
       "      <th>x2</th>\n",
       "      <th>x3</th>\n",
       "      <th>x4</th>\n",
       "      <th>x5</th>\n",
       "      <th>x6</th>\n",
       "      <th>x7</th>\n",
       "      <th>x8</th>\n",
       "      <th>x9</th>\n",
       "      <th>x10</th>\n",
       "    </tr>\n",
       "  </thead>\n",
       "  <tbody>\n",
       "    <tr>\n",
       "      <th>0</th>\n",
       "      <td>0</td>\n",
       "      <td>738.023171</td>\n",
       "      <td>1764.052346</td>\n",
       "      <td>400.157208</td>\n",
       "      <td>978.737984</td>\n",
       "      <td>2240.893199</td>\n",
       "      <td>1867.557990</td>\n",
       "      <td>-977.277880</td>\n",
       "      <td>950.088418</td>\n",
       "      <td>-151.357208</td>\n",
       "      <td>-103.218852</td>\n",
       "      <td>410.598502</td>\n",
       "    </tr>\n",
       "    <tr>\n",
       "      <th>1</th>\n",
       "      <td>1</td>\n",
       "      <td>400.646015</td>\n",
       "      <td>144.043571</td>\n",
       "      <td>1454.273507</td>\n",
       "      <td>761.037725</td>\n",
       "      <td>121.675016</td>\n",
       "      <td>443.863233</td>\n",
       "      <td>333.674327</td>\n",
       "      <td>1494.079073</td>\n",
       "      <td>-205.158264</td>\n",
       "      <td>313.067702</td>\n",
       "      <td>-854.095739</td>\n",
       "    </tr>\n",
       "    <tr>\n",
       "      <th>2</th>\n",
       "      <td>2</td>\n",
       "      <td>189.900156</td>\n",
       "      <td>-2552.989816</td>\n",
       "      <td>653.618595</td>\n",
       "      <td>864.436199</td>\n",
       "      <td>-742.165020</td>\n",
       "      <td>2269.754624</td>\n",
       "      <td>-1454.365675</td>\n",
       "      <td>45.758517</td>\n",
       "      <td>-187.183850</td>\n",
       "      <td>1532.779214</td>\n",
       "      <td>1469.358770</td>\n",
       "    </tr>\n",
       "    <tr>\n",
       "      <th>3</th>\n",
       "      <td>3</td>\n",
       "      <td>-78.399449</td>\n",
       "      <td>154.947426</td>\n",
       "      <td>378.162520</td>\n",
       "      <td>-887.785748</td>\n",
       "      <td>-1980.796468</td>\n",
       "      <td>-347.912149</td>\n",
       "      <td>156.348969</td>\n",
       "      <td>1230.290681</td>\n",
       "      <td>1202.379849</td>\n",
       "      <td>-387.326817</td>\n",
       "      <td>-302.302751</td>\n",
       "    </tr>\n",
       "    <tr>\n",
       "      <th>4</th>\n",
       "      <td>4</td>\n",
       "      <td>-547.373531</td>\n",
       "      <td>-1048.552965</td>\n",
       "      <td>-1420.017937</td>\n",
       "      <td>-1706.270191</td>\n",
       "      <td>1950.775395</td>\n",
       "      <td>-509.652182</td>\n",
       "      <td>-438.074302</td>\n",
       "      <td>-1252.795360</td>\n",
       "      <td>777.490356</td>\n",
       "      <td>-1613.897848</td>\n",
       "      <td>-212.740280</td>\n",
       "    </tr>\n",
       "  </tbody>\n",
       "</table>\n",
       "</div>"
      ],
      "text/plain": [
       "   Id           y           x1           x2           x3           x4  \\\n",
       "0   0  738.023171  1764.052346   400.157208   978.737984  2240.893199   \n",
       "1   1  400.646015   144.043571  1454.273507   761.037725   121.675016   \n",
       "2   2  189.900156 -2552.989816   653.618595   864.436199  -742.165020   \n",
       "3   3  -78.399449   154.947426   378.162520  -887.785748 -1980.796468   \n",
       "4   4 -547.373531 -1048.552965 -1420.017937 -1706.270191  1950.775395   \n",
       "\n",
       "            x5           x6           x7           x8           x9  \\\n",
       "0  1867.557990  -977.277880   950.088418  -151.357208  -103.218852   \n",
       "1   443.863233   333.674327  1494.079073  -205.158264   313.067702   \n",
       "2  2269.754624 -1454.365675    45.758517  -187.183850  1532.779214   \n",
       "3  -347.912149   156.348969  1230.290681  1202.379849  -387.326817   \n",
       "4  -509.652182  -438.074302 -1252.795360   777.490356 -1613.897848   \n",
       "\n",
       "           x10  \n",
       "0   410.598502  \n",
       "1  -854.095739  \n",
       "2  1469.358770  \n",
       "3  -302.302751  \n",
       "4  -212.740280  "
      ]
     },
     "execution_count": 2,
     "metadata": {},
     "output_type": "execute_result"
    }
   ],
   "source": [
    "train.head()"
   ]
  },
  {
   "cell_type": "code",
   "execution_count": 3,
   "metadata": {
    "id": "AzRucTC7wjX7",
    "pycharm": {
     "name": "#%%\n"
    }
   },
   "outputs": [],
   "source": [
    "train_mat: np.ndarray = train.to_numpy()\n",
    "train_y: np.ndarray = train_mat[:, 1]\n",
    "train_x: np.ndarray = train_mat[:, 2:]"
   ]
  },
  {
   "cell_type": "code",
   "execution_count": 4,
   "metadata": {
    "pycharm": {
     "name": "#%%\n"
    }
   },
   "outputs": [],
   "source": [
    "range_x: np.ndarray = np.max(train_x, axis=0) - np.min(train_x, axis=0)\n",
    "train_x_avg: np.ndarray = np.divide(train_x - np.min(train_x, axis=0), range_x)"
   ]
  },
  {
   "cell_type": "code",
   "execution_count": 5,
   "metadata": {
    "pycharm": {
     "name": "#%%\n"
    }
   },
   "outputs": [],
   "source": [
    "range_y: float = np.max(train_y) - np.min(train_y)\n",
    "train_y_avg: np.ndarray = np.divide(train_y - np.min(train_y), range_y)\n",
    "# train_y_avg"
   ]
  },
  {
   "cell_type": "code",
   "execution_count": 6,
   "metadata": {
    "pycharm": {
     "name": "#%%\n"
    }
   },
   "outputs": [],
   "source": [
    "# class Objective:\n",
    "#     def __call__(self, w):\n",
    "#         raise NotImplementedError()\n",
    "#\n",
    "#     def grad(self, w):\n",
    "#         raise NotImplementedError()\n",
    "\n",
    "class ObjFunc:\n",
    "    def __init__(self, y: Union[np.ndarray, float], phi: np.ndarray):\n",
    "        self.y = y.astype(np.float64)\n",
    "        self.phi = phi.astype(np.float64)  # feature input\n",
    "        self.n = self.y.shape[0]\n",
    "\n",
    "    def __call__(self, w: np.ndarray) -> Union[float, np.ndarray]:\n",
    "        return np.linalg.norm(self.y - self.phi @ w) ** 2 / self.n\n",
    "\n",
    "    def grad(self, w: np.ndarray) -> np.ndarray:\n",
    "        return 2 * self.phi.T @ (self.phi @ w - self.y) / self.n\n",
    "\n",
    "\n",
    "class ObjFuncSDG(ObjFunc):\n",
    "    def __init__(self, y: Union[np.ndarray, float], phi: np.ndarray):\n",
    "        super().__init__(y, phi)\n",
    "\n",
    "    def grad(self, w: np.ndarray, indices: np.ndarray) -> np.ndarray:\n",
    "        return 2 * self.phi[indices, :].T @ (self.phi[indices, :] @ w - self.y[indices]) / indices.shape[0]"
   ]
  },
  {
   "cell_type": "code",
   "execution_count": 7,
   "metadata": {
    "id": "apVcoNzgwjX8",
    "pycharm": {
     "name": "#%%\n"
    }
   },
   "outputs": [],
   "source": [
    "def gradient_descent(obj_func: ObjFunc, w_init: np.ndarray, lr: float, tol: float, max_steps: int) -> Tuple[np.ndarray, List, List]:\n",
    "    w_curr = w_init\n",
    "    w_hist: List[np.ndarray] = [w_init]\n",
    "    obj_hist: List[Union[float, np.ndarray]] = [obj_func(w_curr)]\n",
    "    for step in range(max_steps):\n",
    "        direction: np.ndarray = obj_func.grad(w_curr)\n",
    "        w_next = w_curr - lr * direction\n",
    "        if np.allclose(w_next, w_curr, tol):\n",
    "            break\n",
    "        w_curr = w_next\n",
    "        w_hist.append(w_curr)\n",
    "        obj_hist.append(obj_func(w_curr))\n",
    "    return w_curr, w_hist, obj_hist"
   ]
  },
  {
   "cell_type": "code",
   "execution_count": 8,
   "metadata": {
    "id": "VK_hzw6kwjX9",
    "pycharm": {
     "name": "#%%\n"
    }
   },
   "outputs": [],
   "source": [
    "def sgd(obj_func: ObjFuncSDG, w_init: np.ndarray, lr: float, tol: float, n_epoch: int, batch_size: int) -> np.ndarray:\n",
    "    w_curr = w_init\n",
    "    rand_idx: np.ndarray = np.array([x for x in range(obj_func.n)], dtype=int)\n",
    "    np.random.shuffle(rand_idx)\n",
    "    for epoch in range(n_epoch):\n",
    "        for i in range(0, obj_func.n, batch_size):\n",
    "            batch_idx: np.ndarray = rand_idx[i: i + batch_size]\n",
    "            direction: np.ndarray = obj_func.grad(w_curr, batch_idx)\n",
    "            w_next = w_curr - lr * direction\n",
    "            if np.allclose(w_next, w_curr, tol):\n",
    "                return w_next\n",
    "            w_curr = w_next\n",
    "    return w_next"
   ]
  },
  {
   "cell_type": "code",
   "execution_count": 9,
   "metadata": {
    "id": "-TftrdYNwjX9",
    "pycharm": {
     "name": "#%%\n"
    }
   },
   "outputs": [],
   "source": [
    "# hyperparams\n",
    "\n",
    "learning_rate = 0.001\n",
    "tol = 1e-6\n",
    "n_steps = 10000\n",
    "\n",
    "batch_size = 1000\n",
    "num_of_epochs = 100"
   ]
  },
  {
   "cell_type": "code",
   "execution_count": 10,
   "metadata": {
    "id": "c-zvCCJdwjX-",
    "pycharm": {
     "name": "#%%\n"
    }
   },
   "outputs": [],
   "source": [
    "phi = train_x_avg.astype(np.float64)\n",
    "# phi = np.insert(phi, 0, 0.5, axis=1)"
   ]
  },
  {
   "cell_type": "code",
   "execution_count": 11,
   "metadata": {
    "pycharm": {
     "name": "#%%\n"
    }
   },
   "outputs": [
    {
     "data": {
      "text/plain": [
       "array([1.04781958e+10, 9.39081183e+09, 9.47404480e+09, 1.03718403e+10,\n",
       "       9.73734809e+09, 9.79070447e+09, 9.94040455e+09, 1.00107947e+10,\n",
       "       1.01427721e+10, 1.01319772e+10])"
      ]
     },
     "execution_count": 11,
     "metadata": {},
     "output_type": "execute_result"
    }
   ],
   "source": [
    "np.linalg.eig(phi.T @ phi)[0]"
   ]
  },
  {
   "cell_type": "code",
   "execution_count": 12,
   "metadata": {
    "id": "sYOtZ7UHwjX-",
    "pycharm": {
     "name": "#%%\n"
    }
   },
   "outputs": [
    {
     "name": "stderr",
     "output_type": "stream",
     "text": [
      "/tmp/ipykernel_15949/913592483.py:26: RuntimeWarning: overflow encountered in matmul\n",
      "  return 2 * self.phi[indices, :].T @ (self.phi[indices, :] @ w - self.y[indices]) / indices.shape[0]\n",
      "/tmp/ipykernel_15949/913592483.py:26: RuntimeWarning: invalid value encountered in matmul\n",
      "  return 2 * self.phi[indices, :].T @ (self.phi[indices, :] @ w - self.y[indices]) / indices.shape[0]\n"
     ]
    },
    {
     "data": {
      "text/plain": [
       "array([nan, nan, nan, nan, nan, nan, nan, nan, nan, nan])"
      ]
     },
     "execution_count": 12,
     "metadata": {},
     "output_type": "execute_result"
    }
   ],
   "source": [
    "w_init = np.random.random(phi.shape[1])\n",
    "\n",
    "# fitting = ObjFunc(y=train_y, phi=phi)\n",
    "fitting = ObjFuncSDG(y=train_y_avg, phi=phi)\n",
    "\n",
    "# w_res, _, _ = gradient_descent(fitting, w_init, lr=learning_rate, tol=tol, max_steps=n_steps)\n",
    "w_res = sgd(fitting, w_init, lr=learning_rate, tol=tol, n_epoch=num_of_epochs, batch_size=batch_size)\n",
    "w_res"
   ]
  },
  {
   "cell_type": "code",
   "execution_count": 13,
   "metadata": {
    "colab": {
     "base_uri": "https://localhost:8080/"
    },
    "id": "uox43IIdzDqC",
    "outputId": "06c66ca1-cd47-4a66-e539-9649a4d0b999"
   },
   "outputs": [
    {
     "data": {
      "text/plain": [
       "array([nan, nan, nan, nan, nan, nan, nan, nan, nan, nan])"
      ]
     },
     "execution_count": 13,
     "metadata": {},
     "output_type": "execute_result"
    }
   ],
   "source": [
    "w = np.zeros(w_res.shape)\n",
    "# w[1:] = range_y * np.multiply(range_x, w_res[1:])\n",
    "w = range_y * np.multiply(range_x, w_res)\n",
    "w"
   ]
  },
  {
   "cell_type": "code",
   "execution_count": 14,
   "metadata": {
    "pycharm": {
     "name": "#%%\n"
    }
   },
   "outputs": [
    {
     "data": {
      "text/plain": [
       "array([nan, nan, nan, ..., nan, nan, nan])"
      ]
     },
     "execution_count": 14,
     "metadata": {},
     "output_type": "execute_result"
    }
   ],
   "source": [
    "phi @ w_res - train_y_avg"
   ]
  },
  {
   "cell_type": "code",
   "execution_count": 15,
   "metadata": {
    "id": "Fyeudix7wjX_",
    "outputId": "0b8aefeb-9e42-4fa5-fb67-b2f06a7c3011",
    "pycharm": {
     "name": "#%%\n"
    }
   },
   "outputs": [
    {
     "data": {
      "text/plain": [
       "array([0.1, 0.1, 0.1, 0.1, 0.1, 0.1, 0.1, 0.1, 0.1, 0.1])"
      ]
     },
     "execution_count": 15,
     "metadata": {},
     "output_type": "execute_result"
    }
   ],
   "source": [
    "# use scikit_learn to compare the results\n",
    "from sklearn.linear_model import LinearRegression\n",
    "\n",
    "reg = LinearRegression().fit(phi, train_y)\n",
    "reg.coef_"
   ]
  }
 ],
 "metadata": {
  "colab": {
   "include_colab_link": true,
   "name": "task0.ipynb",
   "provenance": []
  },
  "kernelspec": {
   "display_name": "FoRL",
   "language": "python",
   "name": "forl"
  },
  "language_info": {
   "codemirror_mode": {
    "name": "ipython",
    "version": 3
   },
   "file_extension": ".py",
   "mimetype": "text/x-python",
   "name": "python",
   "nbconvert_exporter": "python",
   "pygments_lexer": "ipython3",
   "version": "3.8.12"
  }
 },
 "nbformat": 4,
 "nbformat_minor": 1
}
