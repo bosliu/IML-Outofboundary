{
  "cells": [
    {
      "cell_type": "markdown",
      "metadata": {
        "id": "view-in-github",
        "colab_type": "text"
      },
      "source": [
        "<a href=\"https://colab.research.google.com/github/bosliu/IML-Outofboundary/blob/main/task0/task0.ipynb\" target=\"_parent\"><img src=\"https://colab.research.google.com/assets/colab-badge.svg\" alt=\"Open In Colab\"/></a>"
      ]
    },
    {
      "cell_type": "markdown",
      "metadata": {
        "collapsed": true,
        "pycharm": {
          "name": "#%% md\n"
        },
        "id": "l_znsbSswjX2"
      },
      "source": [
        "# Task 0"
      ]
    },
    {
      "cell_type": "code",
      "execution_count": 2,
      "outputs": [],
      "source": [
        "import pandas as pd\n",
        "import numpy as np\n",
        "\n",
        "from typing import List, Union, Optional, Tuple\n",
        "\n",
        "train: pd.DataFrame = pd.read_csv('train.csv')\n",
        "# test: pd.DataFrame = pd.read_csv('test.csv')"
      ],
      "metadata": {
        "pycharm": {
          "name": "#%%\n"
        },
        "id": "i8_texIcwjX5"
      }
    },
    {
      "cell_type": "code",
      "execution_count": 3,
      "outputs": [
        {
          "output_type": "execute_result",
          "data": {
            "text/html": [
              "\n",
              "  <div id=\"df-53b82d7e-117b-4d67-997f-29db314b4148\">\n",
              "    <div class=\"colab-df-container\">\n",
              "      <div>\n",
              "<style scoped>\n",
              "    .dataframe tbody tr th:only-of-type {\n",
              "        vertical-align: middle;\n",
              "    }\n",
              "\n",
              "    .dataframe tbody tr th {\n",
              "        vertical-align: top;\n",
              "    }\n",
              "\n",
              "    .dataframe thead th {\n",
              "        text-align: right;\n",
              "    }\n",
              "</style>\n",
              "<table border=\"1\" class=\"dataframe\">\n",
              "  <thead>\n",
              "    <tr style=\"text-align: right;\">\n",
              "      <th></th>\n",
              "      <th>Id</th>\n",
              "      <th>y</th>\n",
              "      <th>x1</th>\n",
              "      <th>x2</th>\n",
              "      <th>x3</th>\n",
              "      <th>x4</th>\n",
              "      <th>x5</th>\n",
              "      <th>x6</th>\n",
              "      <th>x7</th>\n",
              "      <th>x8</th>\n",
              "      <th>x9</th>\n",
              "      <th>x10</th>\n",
              "    </tr>\n",
              "  </thead>\n",
              "  <tbody>\n",
              "    <tr>\n",
              "      <th>0</th>\n",
              "      <td>0</td>\n",
              "      <td>738.023171</td>\n",
              "      <td>1764.052346</td>\n",
              "      <td>400.157208</td>\n",
              "      <td>978.737984</td>\n",
              "      <td>2240.893199</td>\n",
              "      <td>1867.557990</td>\n",
              "      <td>-977.277880</td>\n",
              "      <td>950.088418</td>\n",
              "      <td>-151.357208</td>\n",
              "      <td>-103.218852</td>\n",
              "      <td>410.598502</td>\n",
              "    </tr>\n",
              "    <tr>\n",
              "      <th>1</th>\n",
              "      <td>1</td>\n",
              "      <td>400.646015</td>\n",
              "      <td>144.043571</td>\n",
              "      <td>1454.273507</td>\n",
              "      <td>761.037725</td>\n",
              "      <td>121.675016</td>\n",
              "      <td>443.863233</td>\n",
              "      <td>333.674327</td>\n",
              "      <td>1494.079073</td>\n",
              "      <td>-205.158264</td>\n",
              "      <td>313.067702</td>\n",
              "      <td>-854.095739</td>\n",
              "    </tr>\n",
              "    <tr>\n",
              "      <th>2</th>\n",
              "      <td>2</td>\n",
              "      <td>189.900156</td>\n",
              "      <td>-2552.989816</td>\n",
              "      <td>653.618595</td>\n",
              "      <td>864.436199</td>\n",
              "      <td>-742.165020</td>\n",
              "      <td>2269.754624</td>\n",
              "      <td>-1454.365675</td>\n",
              "      <td>45.758517</td>\n",
              "      <td>-187.183850</td>\n",
              "      <td>1532.779214</td>\n",
              "      <td>1469.358770</td>\n",
              "    </tr>\n",
              "    <tr>\n",
              "      <th>3</th>\n",
              "      <td>3</td>\n",
              "      <td>-78.399449</td>\n",
              "      <td>154.947426</td>\n",
              "      <td>378.162520</td>\n",
              "      <td>-887.785748</td>\n",
              "      <td>-1980.796468</td>\n",
              "      <td>-347.912149</td>\n",
              "      <td>156.348969</td>\n",
              "      <td>1230.290681</td>\n",
              "      <td>1202.379849</td>\n",
              "      <td>-387.326817</td>\n",
              "      <td>-302.302751</td>\n",
              "    </tr>\n",
              "    <tr>\n",
              "      <th>4</th>\n",
              "      <td>4</td>\n",
              "      <td>-547.373531</td>\n",
              "      <td>-1048.552965</td>\n",
              "      <td>-1420.017937</td>\n",
              "      <td>-1706.270191</td>\n",
              "      <td>1950.775395</td>\n",
              "      <td>-509.652182</td>\n",
              "      <td>-438.074302</td>\n",
              "      <td>-1252.795360</td>\n",
              "      <td>777.490356</td>\n",
              "      <td>-1613.897848</td>\n",
              "      <td>-212.740280</td>\n",
              "    </tr>\n",
              "  </tbody>\n",
              "</table>\n",
              "</div>\n",
              "      <button class=\"colab-df-convert\" onclick=\"convertToInteractive('df-53b82d7e-117b-4d67-997f-29db314b4148')\"\n",
              "              title=\"Convert this dataframe to an interactive table.\"\n",
              "              style=\"display:none;\">\n",
              "        \n",
              "  <svg xmlns=\"http://www.w3.org/2000/svg\" height=\"24px\"viewBox=\"0 0 24 24\"\n",
              "       width=\"24px\">\n",
              "    <path d=\"M0 0h24v24H0V0z\" fill=\"none\"/>\n",
              "    <path d=\"M18.56 5.44l.94 2.06.94-2.06 2.06-.94-2.06-.94-.94-2.06-.94 2.06-2.06.94zm-11 1L8.5 8.5l.94-2.06 2.06-.94-2.06-.94L8.5 2.5l-.94 2.06-2.06.94zm10 10l.94 2.06.94-2.06 2.06-.94-2.06-.94-.94-2.06-.94 2.06-2.06.94z\"/><path d=\"M17.41 7.96l-1.37-1.37c-.4-.4-.92-.59-1.43-.59-.52 0-1.04.2-1.43.59L10.3 9.45l-7.72 7.72c-.78.78-.78 2.05 0 2.83L4 21.41c.39.39.9.59 1.41.59.51 0 1.02-.2 1.41-.59l7.78-7.78 2.81-2.81c.8-.78.8-2.07 0-2.86zM5.41 20L4 18.59l7.72-7.72 1.47 1.35L5.41 20z\"/>\n",
              "  </svg>\n",
              "      </button>\n",
              "      \n",
              "  <style>\n",
              "    .colab-df-container {\n",
              "      display:flex;\n",
              "      flex-wrap:wrap;\n",
              "      gap: 12px;\n",
              "    }\n",
              "\n",
              "    .colab-df-convert {\n",
              "      background-color: #E8F0FE;\n",
              "      border: none;\n",
              "      border-radius: 50%;\n",
              "      cursor: pointer;\n",
              "      display: none;\n",
              "      fill: #1967D2;\n",
              "      height: 32px;\n",
              "      padding: 0 0 0 0;\n",
              "      width: 32px;\n",
              "    }\n",
              "\n",
              "    .colab-df-convert:hover {\n",
              "      background-color: #E2EBFA;\n",
              "      box-shadow: 0px 1px 2px rgba(60, 64, 67, 0.3), 0px 1px 3px 1px rgba(60, 64, 67, 0.15);\n",
              "      fill: #174EA6;\n",
              "    }\n",
              "\n",
              "    [theme=dark] .colab-df-convert {\n",
              "      background-color: #3B4455;\n",
              "      fill: #D2E3FC;\n",
              "    }\n",
              "\n",
              "    [theme=dark] .colab-df-convert:hover {\n",
              "      background-color: #434B5C;\n",
              "      box-shadow: 0px 1px 3px 1px rgba(0, 0, 0, 0.15);\n",
              "      filter: drop-shadow(0px 1px 2px rgba(0, 0, 0, 0.3));\n",
              "      fill: #FFFFFF;\n",
              "    }\n",
              "  </style>\n",
              "\n",
              "      <script>\n",
              "        const buttonEl =\n",
              "          document.querySelector('#df-53b82d7e-117b-4d67-997f-29db314b4148 button.colab-df-convert');\n",
              "        buttonEl.style.display =\n",
              "          google.colab.kernel.accessAllowed ? 'block' : 'none';\n",
              "\n",
              "        async function convertToInteractive(key) {\n",
              "          const element = document.querySelector('#df-53b82d7e-117b-4d67-997f-29db314b4148');\n",
              "          const dataTable =\n",
              "            await google.colab.kernel.invokeFunction('convertToInteractive',\n",
              "                                                     [key], {});\n",
              "          if (!dataTable) return;\n",
              "\n",
              "          const docLinkHtml = 'Like what you see? Visit the ' +\n",
              "            '<a target=\"_blank\" href=https://colab.research.google.com/notebooks/data_table.ipynb>data table notebook</a>'\n",
              "            + ' to learn more about interactive tables.';\n",
              "          element.innerHTML = '';\n",
              "          dataTable['output_type'] = 'display_data';\n",
              "          await google.colab.output.renderOutput(dataTable, element);\n",
              "          const docLink = document.createElement('div');\n",
              "          docLink.innerHTML = docLinkHtml;\n",
              "          element.appendChild(docLink);\n",
              "        }\n",
              "      </script>\n",
              "    </div>\n",
              "  </div>\n",
              "  "
            ],
            "text/plain": [
              "   Id           y           x1           x2           x3           x4  \\\n",
              "0   0  738.023171  1764.052346   400.157208   978.737984  2240.893199   \n",
              "1   1  400.646015   144.043571  1454.273507   761.037725   121.675016   \n",
              "2   2  189.900156 -2552.989816   653.618595   864.436199  -742.165020   \n",
              "3   3  -78.399449   154.947426   378.162520  -887.785748 -1980.796468   \n",
              "4   4 -547.373531 -1048.552965 -1420.017937 -1706.270191  1950.775395   \n",
              "\n",
              "            x5           x6           x7           x8           x9  \\\n",
              "0  1867.557990  -977.277880   950.088418  -151.357208  -103.218852   \n",
              "1   443.863233   333.674327  1494.079073  -205.158264   313.067702   \n",
              "2  2269.754624 -1454.365675    45.758517  -187.183850  1532.779214   \n",
              "3  -347.912149   156.348969  1230.290681  1202.379849  -387.326817   \n",
              "4  -509.652182  -438.074302 -1252.795360   777.490356 -1613.897848   \n",
              "\n",
              "           x10  \n",
              "0   410.598502  \n",
              "1  -854.095739  \n",
              "2  1469.358770  \n",
              "3  -302.302751  \n",
              "4  -212.740280  "
            ]
          },
          "metadata": {},
          "execution_count": 3
        }
      ],
      "source": [
        "train.head()"
      ],
      "metadata": {
        "pycharm": {
          "name": "#%%\n"
        },
        "id": "oNMTZF32wjX6",
        "outputId": "0b9e0b3b-0aa3-4d23-ee4b-abf28c071754",
        "colab": {
          "base_uri": "https://localhost:8080/",
          "height": 206
        }
      }
    },
    {
      "cell_type": "code",
      "execution_count": 4,
      "outputs": [],
      "source": [
        "train_mat: np.ndarray = train.to_numpy()\n",
        "train_y: np.ndarray = train_mat[:, 1]\n",
        "train_x: np.ndarray = train_mat[:, 2:]"
      ],
      "metadata": {
        "pycharm": {
          "name": "#%%\n"
        },
        "id": "AzRucTC7wjX7"
      }
    },
    {
      "cell_type": "code",
      "source": [
        "train_x_avg: np.ndarray = np.divide(train_x - np.min(train_x, axis=0), np.max(train_x, axis=0) - np.min(train_x, axis=0))\n",
        "train_x_avg"
      ],
      "metadata": {
        "id": "-VVrjAinxQch",
        "outputId": "6cacbee7-6237-4b61-b035-729be0a2288a",
        "colab": {
          "base_uri": "https://localhost:8080/"
        }
      },
      "execution_count": 7,
      "outputs": [
        {
          "output_type": "execute_result",
          "data": {
            "text/plain": [
              "array([[0.75534077, 0.55925853, 0.60810762, ..., 0.49663337, 0.5246668 ,\n",
              "        0.54322957],\n",
              "       [0.56485857, 0.69385042, 0.58005301, ..., 0.48919929, 0.57495253,\n",
              "        0.37111521],\n",
              "       [0.24773877, 0.59162104, 0.59337777, ..., 0.49168295, 0.72228876,\n",
              "        0.68731803],\n",
              "       ...,\n",
              "       [0.48375727, 0.72481235, 0.41649059, ..., 0.65767886, 0.46676818,\n",
              "        0.57428451],\n",
              "       [0.50467702, 0.4355964 , 0.38903374, ..., 0.47523713, 0.4224931 ,\n",
              "        0.4263701 ],\n",
              "       [0.59831352, 0.48709813, 0.59344561, ..., 0.61788924, 0.39606601,\n",
              "        0.31244447]])"
            ]
          },
          "metadata": {},
          "execution_count": 7
        }
      ]
    },
    {
      "cell_type": "code",
      "source": [
        "train_y_avg: np.ndarray = np.divide(train_y - np.min(train_y), np.max(train_y) - np.min(train_y))\n",
        "train_y_avg"
      ],
      "metadata": {
        "id": "cg9hP5daykJO",
        "outputId": "28f4bc5d-eb10-4431-a17e-ecc4824f06fc",
        "colab": {
          "base_uri": "https://localhost:8080/"
        }
      },
      "execution_count": 9,
      "outputs": [
        {
          "output_type": "execute_result",
          "data": {
            "text/plain": [
              "array([0.81394836, 0.68589175, 0.60589997, ..., 0.55704097, 0.45709652,\n",
              "       0.42404303])"
            ]
          },
          "metadata": {},
          "execution_count": 9
        }
      ]
    },
    {
      "cell_type": "code",
      "execution_count": 10,
      "outputs": [],
      "source": [
        "# class Objective:\n",
        "#     def __call__(self, w):\n",
        "#         raise NotImplementedError()\n",
        "#\n",
        "#     def grad(self, w):\n",
        "#         raise NotImplementedError()\n",
        "\n",
        "class ObjFunc:\n",
        "    def __init__(self, y: Union[np.ndarray, float], phi: np.ndarray):\n",
        "        self.y = y.astype(np.float64)\n",
        "        self.phi = phi.astype(np.float64)  # feature input\n",
        "        self.n = self.y.shape[0]\n",
        "\n",
        "    def __call__(self, w: np.ndarray) -> Union[float, np.ndarray]:\n",
        "        return np.linalg.norm(self.y - self.phi @ w) ** 2 / self.n\n",
        "\n",
        "    def grad(self, w: np.ndarray) -> np.ndarray:\n",
        "        return 2 * self.phi.T @ (self.phi @ w - self.y) / self.n\n",
        "\n",
        "\n",
        "class ObjFuncSDG(ObjFunc):\n",
        "    def __init__(self, y: Union[np.ndarray, float], phi: np.ndarray):\n",
        "        super().__init__(y, phi)\n",
        "\n",
        "    def grad(self, w: np.ndarray, indices: np.ndarray) -> np.ndarray:\n",
        "        return 2 * self.phi[indices, :].T @ (self.phi[indices, :] @ w - self.y[indices]) / indices.shape[0]"
      ],
      "metadata": {
        "pycharm": {
          "name": "#%%\n"
        },
        "id": "E7pHtTz1wjX7"
      }
    },
    {
      "cell_type": "code",
      "execution_count": null,
      "outputs": [],
      "source": [
        "def gradient_descent(obj_func: ObjFunc, w_init: np.ndarray, lr: float, tol: float, max_steps: int) -> Tuple[np.ndarray, List, List]:\n",
        "    w_curr = w_init\n",
        "    w_hist: List[np.ndarray] = [w_init]\n",
        "    obj_hist: List[Union[float, np.ndarray]] = [obj_func(w_curr)]\n",
        "    for step in range(max_steps):\n",
        "        direction: np.ndarray = obj_func.grad(w_curr)\n",
        "        w_next = w_curr - lr * direction\n",
        "        if np.allclose(w_next, w_curr, tol):\n",
        "            break\n",
        "        w_curr = w_next\n",
        "        w_hist.append(w_curr)\n",
        "        obj_hist.append(obj_func(w_curr))\n",
        "    return w_curr, w_hist, obj_hist"
      ],
      "metadata": {
        "pycharm": {
          "name": "#%%\n"
        },
        "id": "apVcoNzgwjX8"
      }
    },
    {
      "cell_type": "code",
      "execution_count": 11,
      "outputs": [],
      "source": [
        "def sgd(obj_func: ObjFuncSDG, w_init: np.ndarray, lr: float, tol: float, n_epoch: int, batch_size: int) -> np.ndarray:\n",
        "    w_curr = w_init\n",
        "    for epoch in range(n_epoch):\n",
        "        rand_idx: np.ndarray = np.array([x for x in range(obj_func.n)], dtype=int)\n",
        "        np.random.shuffle(rand_idx)\n",
        "        error = np.zeros_like(w_curr)\n",
        "        for i in range(0, obj_func.n, batch_size):\n",
        "            batch_idx: np.ndarray = rand_idx[i: i + batch_size]\n",
        "            direction: np.ndarray = obj_func.grad(w_curr, batch_idx)\n",
        "            #direction = direction / np.linalg.norm(direction)\n",
        "            # w_next = error * 0.9 - lr * direction + w_curr\n",
        "            # error = w_next - w_curr\n",
        "           #  print(obj_func(w_curr))\n",
        "            w_next = w_curr - lr * direction\n",
        "            if np.allclose(w_next, w_curr, tol):\n",
        "                return w_next\n",
        "            w_curr = w_next\n",
        "    return w_next"
      ],
      "metadata": {
        "pycharm": {
          "name": "#%%\n"
        },
        "id": "VK_hzw6kwjX9"
      }
    },
    {
      "cell_type": "code",
      "execution_count": 12,
      "outputs": [],
      "source": [
        "# hyperparams\n",
        "\n",
        "learning_rate = 0.001\n",
        "tol = 1e-6\n",
        "n_steps = 10000\n",
        "\n",
        "batch_size = 100\n",
        "num_of_epochs = 5"
      ],
      "metadata": {
        "pycharm": {
          "name": "#%%\n"
        },
        "id": "-TftrdYNwjX9"
      }
    },
    {
      "cell_type": "code",
      "execution_count": 14,
      "outputs": [],
      "source": [
        "phi = train_x_avg.astype(np.float64)\n",
        "phi = np.insert(phi, 0, 1, axis=1)"
      ],
      "metadata": {
        "pycharm": {
          "name": "#%%\n"
        },
        "id": "c-zvCCJdwjX-"
      }
    },
    {
      "cell_type": "code",
      "execution_count": 15,
      "outputs": [],
      "source": [
        "w_init = np.random.random(11)\n",
        "\n",
        "# fitting = ObjFunc(y=train_y, phi=phi)\n",
        "fitting = ObjFuncSDG(y=train_y_avg, phi=phi)\n",
        "\n",
        "# w_res, _, _ = gradient_descent(fitting, w_init, lr=learning_rate, tol=tol, max_steps=n_steps)\n",
        "w_res = sgd(fitting, w_init, lr=learning_rate, tol=tol, n_epoch=num_of_epochs, batch_size=batch_size)"
      ],
      "metadata": {
        "pycharm": {
          "name": "#%%\n"
        },
        "id": "sYOtZ7UHwjX-"
      }
    },
    {
      "cell_type": "code",
      "source": [
        "w = np.multiply(w_res, np.insert(np.max(train_x, axis=0) - np.min(train_x, axis=0), 0, 1))\n",
        "w"
      ],
      "metadata": {
        "id": "uox43IIdzDqC",
        "outputId": "06c66ca1-cd47-4a66-e539-9649a4d0b999",
        "colab": {
          "base_uri": "https://localhost:8080/"
        }
      },
      "execution_count": 18,
      "outputs": [
        {
          "output_type": "execute_result",
          "data": {
            "text/plain": [
              "array([-4.66182378e-01,  2.17901258e+03,  3.73993968e+03,  8.58488649e+02,\n",
              "        5.09514762e+03, -6.08055049e+01, -1.53527251e+03,  1.45995392e+03,\n",
              "        1.14967032e+03,  3.30059416e+03,  6.69528144e+02])"
            ]
          },
          "metadata": {},
          "execution_count": 18
        }
      ]
    },
    {
      "cell_type": "code",
      "execution_count": null,
      "outputs": [
        {
          "data": {
            "text/plain": "array([0. , 0.1, 0.1, 0.1, 0.1, 0.1, 0.1, 0.1, 0.1, 0.1, 0.1])"
          },
          "execution_count": 20,
          "metadata": {},
          "output_type": "execute_result"
        }
      ],
      "source": [
        "# use scikit_learn to compare the results\n",
        "from sklearn.linear_model import LinearRegression\n",
        "\n",
        "reg = LinearRegression().fit(phi, train_y)\n",
        "reg.coef_"
      ],
      "metadata": {
        "pycharm": {
          "name": "#%%\n"
        },
        "id": "Fyeudix7wjX_",
        "outputId": "0b8aefeb-9e42-4fa5-fb67-b2f06a7c3011"
      }
    }
  ],
  "metadata": {
    "kernelspec": {
      "display_name": "Python 3",
      "language": "python",
      "name": "python3"
    },
    "language_info": {
      "codemirror_mode": {
        "name": "ipython",
        "version": 2
      },
      "file_extension": ".py",
      "mimetype": "text/x-python",
      "name": "python",
      "nbconvert_exporter": "python",
      "pygments_lexer": "ipython2",
      "version": "2.7.6"
    },
    "colab": {
      "name": "task0.ipynb",
      "provenance": [],
      "include_colab_link": true
    }
  },
  "nbformat": 4,
  "nbformat_minor": 0
}