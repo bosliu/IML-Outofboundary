{
 "cells": [
  {
   "cell_type": "markdown",
   "metadata": {
    "collapsed": true,
    "pycharm": {
     "name": "#%% md\n"
    }
   },
   "source": [
    "# Task 0"
   ]
  },
  {
   "cell_type": "code",
   "execution_count": 6,
   "outputs": [],
   "source": [
    "import pandas as pd\n",
    "import numpy as np\n",
    "\n",
    "from typing import List, Union, Optional, Tuple\n",
    "\n",
    "train: pd.DataFrame = pd.read_csv('train.csv')\n",
    "test: pd.DataFrame = pd.read_csv('test.csv')"
   ],
   "metadata": {
    "collapsed": false,
    "pycharm": {
     "name": "#%%\n"
    }
   }
  },
  {
   "cell_type": "code",
   "execution_count": 2,
   "outputs": [
    {
     "data": {
      "text/plain": "   Id           y           x1           x2           x3           x4  \\\n0   0  738.023171  1764.052346   400.157208   978.737984  2240.893199   \n1   1  400.646015   144.043571  1454.273507   761.037725   121.675016   \n2   2  189.900156 -2552.989816   653.618595   864.436199  -742.165020   \n3   3  -78.399449   154.947426   378.162520  -887.785748 -1980.796468   \n4   4 -547.373531 -1048.552965 -1420.017937 -1706.270191  1950.775395   \n\n            x5           x6           x7           x8           x9  \\\n0  1867.557990  -977.277880   950.088418  -151.357208  -103.218852   \n1   443.863233   333.674327  1494.079073  -205.158264   313.067702   \n2  2269.754624 -1454.365675    45.758517  -187.183850  1532.779214   \n3  -347.912149   156.348969  1230.290681  1202.379849  -387.326817   \n4  -509.652182  -438.074302 -1252.795360   777.490356 -1613.897848   \n\n           x10  \n0   410.598502  \n1  -854.095739  \n2  1469.358770  \n3  -302.302751  \n4  -212.740280  ",
      "text/html": "<div>\n<style scoped>\n    .dataframe tbody tr th:only-of-type {\n        vertical-align: middle;\n    }\n\n    .dataframe tbody tr th {\n        vertical-align: top;\n    }\n\n    .dataframe thead th {\n        text-align: right;\n    }\n</style>\n<table border=\"1\" class=\"dataframe\">\n  <thead>\n    <tr style=\"text-align: right;\">\n      <th></th>\n      <th>Id</th>\n      <th>y</th>\n      <th>x1</th>\n      <th>x2</th>\n      <th>x3</th>\n      <th>x4</th>\n      <th>x5</th>\n      <th>x6</th>\n      <th>x7</th>\n      <th>x8</th>\n      <th>x9</th>\n      <th>x10</th>\n    </tr>\n  </thead>\n  <tbody>\n    <tr>\n      <th>0</th>\n      <td>0</td>\n      <td>738.023171</td>\n      <td>1764.052346</td>\n      <td>400.157208</td>\n      <td>978.737984</td>\n      <td>2240.893199</td>\n      <td>1867.557990</td>\n      <td>-977.277880</td>\n      <td>950.088418</td>\n      <td>-151.357208</td>\n      <td>-103.218852</td>\n      <td>410.598502</td>\n    </tr>\n    <tr>\n      <th>1</th>\n      <td>1</td>\n      <td>400.646015</td>\n      <td>144.043571</td>\n      <td>1454.273507</td>\n      <td>761.037725</td>\n      <td>121.675016</td>\n      <td>443.863233</td>\n      <td>333.674327</td>\n      <td>1494.079073</td>\n      <td>-205.158264</td>\n      <td>313.067702</td>\n      <td>-854.095739</td>\n    </tr>\n    <tr>\n      <th>2</th>\n      <td>2</td>\n      <td>189.900156</td>\n      <td>-2552.989816</td>\n      <td>653.618595</td>\n      <td>864.436199</td>\n      <td>-742.165020</td>\n      <td>2269.754624</td>\n      <td>-1454.365675</td>\n      <td>45.758517</td>\n      <td>-187.183850</td>\n      <td>1532.779214</td>\n      <td>1469.358770</td>\n    </tr>\n    <tr>\n      <th>3</th>\n      <td>3</td>\n      <td>-78.399449</td>\n      <td>154.947426</td>\n      <td>378.162520</td>\n      <td>-887.785748</td>\n      <td>-1980.796468</td>\n      <td>-347.912149</td>\n      <td>156.348969</td>\n      <td>1230.290681</td>\n      <td>1202.379849</td>\n      <td>-387.326817</td>\n      <td>-302.302751</td>\n    </tr>\n    <tr>\n      <th>4</th>\n      <td>4</td>\n      <td>-547.373531</td>\n      <td>-1048.552965</td>\n      <td>-1420.017937</td>\n      <td>-1706.270191</td>\n      <td>1950.775395</td>\n      <td>-509.652182</td>\n      <td>-438.074302</td>\n      <td>-1252.795360</td>\n      <td>777.490356</td>\n      <td>-1613.897848</td>\n      <td>-212.740280</td>\n    </tr>\n  </tbody>\n</table>\n</div>"
     },
     "execution_count": 2,
     "metadata": {},
     "output_type": "execute_result"
    }
   ],
   "source": [
    "train.head()"
   ],
   "metadata": {
    "collapsed": false,
    "pycharm": {
     "name": "#%%\n"
    }
   }
  },
  {
   "cell_type": "code",
   "execution_count": 3,
   "outputs": [],
   "source": [
    "train_mat: np.ndarray = train.to_numpy()\n",
    "train_y: np.ndarray = train_mat[:, 1]\n",
    "train_x: np.ndarray = train_mat[:, 2:]"
   ],
   "metadata": {
    "collapsed": false,
    "pycharm": {
     "name": "#%%\n"
    }
   }
  },
  {
   "cell_type": "code",
   "execution_count": 14,
   "outputs": [],
   "source": [
    "class Objective:\n",
    "    def __call__(self, w):\n",
    "        raise NotImplementedError()\n",
    "\n",
    "    def grad(self, w):\n",
    "        raise NotImplementedError()\n",
    "\n",
    "\n",
    "class ObjFunc(Objective):\n",
    "    def __init__(self, y: Union[np.ndarray, float], phi: np.ndarray):\n",
    "        self.y = y.astype(np.float64)\n",
    "        self.phi = phi.astype(np.float64)  # feature input\n",
    "        self.n = self.y.shape[0]\n",
    "\n",
    "    def __call__(self, w: np.ndarray) -> Union[float, np.ndarray]:\n",
    "        return np.linalg.norm(self.y - self.phi @ w) ** 2 / self.n\n",
    "\n",
    "    def grad(self, w: np.ndarray) -> np.ndarray:\n",
    "        return 2* self.phi.T @ (self.phi @ w - self.y) / self.n"
   ],
   "metadata": {
    "collapsed": false,
    "pycharm": {
     "name": "#%%\n"
    }
   }
  },
  {
   "cell_type": "code",
   "execution_count": 7,
   "outputs": [],
   "source": [
    "def gradient_descent(obj_func: ObjFunc, w_init: np.ndarray, lr: float, tol: float, max_steps: int) -> Tuple[np.ndarray, List, List]:\n",
    "    w_curr = w_init\n",
    "    w_hist: List[np.ndarray] = [w_init]\n",
    "    obj_hist: List[Union[float, np.ndarray]] = [obj_func(w_curr)]\n",
    "    for step in range(max_steps):\n",
    "        direction: np.ndarray = obj_func.grad(w_curr)\n",
    "        w_next = w_curr - lr * direction\n",
    "        if np.allclose(w_next, w_curr, tol):\n",
    "            break\n",
    "        w_curr = w_next\n",
    "        w_hist.append(w_curr)\n",
    "        obj_hist.append(obj_func(w_curr))\n",
    "    return w_curr, w_hist, obj_hist"
   ],
   "metadata": {
    "collapsed": false,
    "pycharm": {
     "name": "#%%\n"
    }
   }
  },
  {
   "cell_type": "code",
   "execution_count": 12,
   "outputs": [],
   "source": [
    "# hyperparams\n",
    "\n",
    "learning_rate = 0.001\n",
    "tol = 1e-6\n",
    "n_steps = 10000"
   ],
   "metadata": {
    "collapsed": false,
    "pycharm": {
     "name": "#%%\n"
    }
   }
  },
  {
   "cell_type": "code",
   "execution_count": 17,
   "outputs": [],
   "source": [
    "phi = train_x.copy().astype(np.float64)\n",
    "phi = np.insert(phi, 0, 1, axis=1)"
   ],
   "metadata": {
    "collapsed": false,
    "pycharm": {
     "name": "#%%\n"
    }
   }
  },
  {
   "cell_type": "code",
   "execution_count": null,
   "outputs": [],
   "source": [
    "w_init = np.random.random(10)\n",
    "\n",
    "fitting = ObjFunc(y=train_y, phi=phi)\n",
    "\n",
    "w_res, _, _ = gradient_descent(fitting, w_init, lr=learning_rate, tol=tol, max_steps=n_steps)"
   ],
   "metadata": {
    "collapsed": false,
    "pycharm": {
     "name": "#%%\n"
    }
   }
  },
  {
   "cell_type": "code",
   "execution_count": 20,
   "outputs": [
    {
     "data": {
      "text/plain": "array([0. , 0.1, 0.1, 0.1, 0.1, 0.1, 0.1, 0.1, 0.1, 0.1, 0.1])"
     },
     "execution_count": 20,
     "metadata": {},
     "output_type": "execute_result"
    }
   ],
   "source": [
    "# use scikit_learn to compare the results\n",
    "from sklearn.linear_model import LinearRegression\n",
    "\n",
    "reg = LinearRegression().fit(phi, train_y)\n",
    "reg.coef_"
   ],
   "metadata": {
    "collapsed": false,
    "pycharm": {
     "name": "#%%\n"
    }
   }
  }
 ],
 "metadata": {
  "kernelspec": {
   "display_name": "Python 3",
   "language": "python",
   "name": "python3"
  },
  "language_info": {
   "codemirror_mode": {
    "name": "ipython",
    "version": 2
   },
   "file_extension": ".py",
   "mimetype": "text/x-python",
   "name": "python",
   "nbconvert_exporter": "python",
   "pygments_lexer": "ipython2",
   "version": "2.7.6"
  }
 },
 "nbformat": 4,
 "nbformat_minor": 0
}